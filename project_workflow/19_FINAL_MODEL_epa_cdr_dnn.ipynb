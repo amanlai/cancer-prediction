{
  "nbformat": 4,
  "nbformat_minor": 0,
  "metadata": {
    "colab": {
      "provenance": [],
      "machine_shape": "hm"
    },
    "kernelspec": {
      "name": "python3",
      "display_name": "Python 3"
    },
    "language_info": {
      "name": "python"
    },
    "accelerator": "GPU",
    "gpuClass": "standard"
  },
  "cells": [
    {
      "cell_type": "markdown",
      "source": [
        "# DNN on EPA CDR Data"
      ],
      "metadata": {
        "id": "X8eog-BY8IW0"
      }
    },
    {
      "cell_type": "code",
      "source": [
        "import numpy as np\n",
        "import pandas as pd\n",
        "import matplotlib.pyplot as plt\n",
        "import pickle\n",
        "\n",
        "from sklearn.preprocessing import StandardScaler, OneHotEncoder\n",
        "from sklearn.model_selection import train_test_split\n",
        "\n",
        "# Tensorflow imports below...\n",
        "from tensorflow.keras.models import Sequential\n",
        "from tensorflow.keras.layers import Dense, Dropout, GRU\n",
        "from tensorflow.keras.regularizers import l2\n",
        "from tensorflow.keras.callbacks import EarlyStopping"
      ],
      "metadata": {
        "id": "bWrGYoNIaPkq"
      },
      "execution_count": 30,
      "outputs": []
    },
    {
      "cell_type": "code",
      "source": [],
      "metadata": {
        "id": "9o84MdWDaPei"
      },
      "execution_count": null,
      "outputs": []
    },
    {
      "cell_type": "code",
      "source": [],
      "metadata": {
        "id": "MUKWvkFRc2yN"
      },
      "execution_count": null,
      "outputs": []
    },
    {
      "cell_type": "markdown",
      "source": [
        "## Read in Data"
      ],
      "metadata": {
        "id": "OZ4qUGZ88Djj"
      }
    },
    {
      "cell_type": "code",
      "execution_count": 8,
      "metadata": {
        "id": "1hbf2QMvaFeo"
      },
      "outputs": [],
      "source": [
        "df = pd.read_csv('/content/drive/MyDrive/ga_data/full_county_dataset.csv')"
      ]
    },
    {
      "cell_type": "markdown",
      "source": [
        "## Columns to drop to focus on CDR data"
      ],
      "metadata": {
        "id": "ItiGk4ZG7xZH"
      }
    },
    {
      "cell_type": "code",
      "source": [
        "non_CDR_columns = ['profile_STATECTY',\n",
        " 'profile_CNTYNAME',\n",
        " 'profile_ELEVATION',\n",
        " 'profile_UID',\n",
        " 'profile_LAT_DD83',\n",
        " 'profile_LON_DD83',\n",
        " 'hab_XBKA',\n",
        " 'hab_MEDBK_A',\n",
        " 'hab_XUN',\n",
        " 'hab_MEDBKUN',\n",
        " 'hab_XCDENMID',\n",
        " 'hab_XCDENBK',\n",
        " 'hab_CONPERCENT',\n",
        " 'hab_PCT_FA',\n",
        " 'hab_PCT_DR',\n",
        " 'hab_PCT_FAST',\n",
        " 'hab_PCT_SLOW',\n",
        " 'hab_PCT_POOL',\n",
        " 'hab_XWIDTH',\n",
        " 'hab_SDWIDTH',\n",
        " 'hab_XBKF_W',\n",
        " 'hab_XBKF_H',\n",
        " 'hab_XINC_H',\n",
        " 'hab_SDINC_H',\n",
        " 'hab_BFWD_RAT',\n",
        " 'hab_XWXD',\n",
        " 'hab_XWD_RAT',\n",
        " 'hab_SDWXD',\n",
        " 'hab_SDWD_RAT',\n",
        " 'hab_XDEPTH_CM',\n",
        " 'hab_SDDEPTH_CM',\n",
        " 'hab_XFC_ALG',\n",
        " 'hab_XFC_RCK',\n",
        " 'hab_XFC_BRS',\n",
        " 'hab_XFC_LVT',\n",
        " 'hab_XFC_AQM',\n",
        " 'hab_XFC_OHV',\n",
        " 'hab_XFC_HUM',\n",
        " 'hab_XFC_UCB',\n",
        " 'hab_XFC_LWD',\n",
        " 'hab_XFC_NAT',\n",
        " 'hab_XFC_BIG',\n",
        " 'hab_XFC_ALL',\n",
        " 'hab_PCT_SIDE',\n",
        " 'hab_REACHLEN',\n",
        " 'hab_W1_HAG',\n",
        " 'hab_W1_HNOAG',\n",
        " 'hab_W1_HALL',\n",
        " 'hab_W1H_BLDG',\n",
        " 'hab_W1H_LDFL',\n",
        " 'hab_W1H_LOG',\n",
        " 'hab_W1H_MINE',\n",
        " 'hab_W1H_PARK',\n",
        " 'hab_W1H_PSTR',\n",
        " 'hab_W1H_PVMT',\n",
        " 'hab_W1H_PIPE',\n",
        " 'hab_W1H_ROAD',\n",
        " 'hab_W1H_CROP',\n",
        " 'hab_W1H_WALL',\n",
        " 'hab_C1WM100',\n",
        " 'hab_C2WM100',\n",
        " 'hab_C4WM100',\n",
        " 'hab_V1WM100',\n",
        " 'hab_V1W_MSQ',\n",
        " 'hab_V2WM100',\n",
        " 'hab_V2W_MSQ',\n",
        " 'hab_V4WM100',\n",
        " 'hab_V4W_MSQ',\n",
        " 'hab_PCAN_C',\n",
        " 'hab_PCAN_D',\n",
        " 'hab_PCAN_E',\n",
        " 'hab_PCAN_M',\n",
        " 'hab_PCAN_N',\n",
        " 'hab_XCL',\n",
        " 'hab_XCS',\n",
        " 'hab_XMW',\n",
        " 'hab_XMH',\n",
        " 'hab_XGW',\n",
        " 'hab_XGH',\n",
        " 'hab_XGB',\n",
        " 'hab_XC',\n",
        " 'hab_XM',\n",
        " 'hab_XCMW',\n",
        " 'hab_XCM',\n",
        " 'hab_XG',\n",
        " 'hab_XCMGW',\n",
        " 'hab_XCMG',\n",
        " 'hab_XPCAN',\n",
        " 'hab_XPMID',\n",
        " 'hab_XPMGW',\n",
        " 'hab_XPCM',\n",
        " 'hab_XPCMG',\n",
        " 'hab_XSLOPE',\n",
        " 'hab_XSLOPE_MAP',\n",
        " 'hab_XSLOPE_FIELD',\n",
        " 'hab_PCTCLINOMETER',\n",
        " 'hab_XBEARING',\n",
        " 'hab_SINU',\n",
        " 'hab_LSUB_DMM',\n",
        " 'hab_LSUBD_SD',\n",
        " 'hab_LSUB_DMM_NOR',\n",
        " 'hab_PCT_FN',\n",
        " 'hab_PCT_GC',\n",
        " 'hab_PCT_GF',\n",
        " 'hab_PCT_HP',\n",
        " 'hab_PCT_OM',\n",
        " 'hab_PCT_OT',\n",
        " 'hab_PCT_RC',\n",
        " 'hab_PCT_SA',\n",
        " 'hab_PCT_WD',\n",
        " 'hab_PCT_BIGR',\n",
        " 'hab_PCT_BDRK',\n",
        " 'hab_PCT_SAFN',\n",
        " 'hab_PCT_SFGF',\n",
        " 'hab_PCT_ORG',\n",
        " 'hab_XEMBED',\n",
        " 'hab_XCEMBED',\n",
        " 'hab_RPXDEP_CM',\n",
        " 'hab_RPMXDEP_CM',\n",
        " 'hab_RPGT50',\n",
        " 'hab_RPGT75',\n",
        " 'hab_RP100',\n",
        " 'hab_LTEST',\n",
        " 'hab_LRBS_TST',\n",
        " 'hab_LDMB_BW5',\n",
        " 'hab_LRBS_BW5',\n",
        " 'hab_LDCBF_G08',\n",
        " 'hab_LRBS_G08',\n",
        " 'hab_PCT_SFG',\n",
        " 'hab_PCT_BH',\n",
        " 'hab_XSHOR2VG',\n",
        " 'hab_PCT_OVRB',\n",
        " 'hab_PCT_GL',\n",
        " 'hab_C1TM100',\n",
        " 'hab_C2TM100',\n",
        " 'hab_C4TM100',\n",
        " 'hab_PCT_GR',\n",
        " 'hab_RDIST1',\n",
        " 'hab_QR1',\n",
        " 'hab_CVWIDTH',\n",
        " 'hab_CVWXD',\n",
        " 'bminv_AMPHNTAX',\n",
        " 'bminv_AMPHPIND',\n",
        " 'bminv_AMPHPTAX',\n",
        " 'bminv_BURRNTAX',\n",
        " 'bminv_BURRPIND',\n",
        " 'bminv_BURRPTAX',\n",
        " 'bminv_CHIRDOM1PIND',\n",
        " 'bminv_CHIRDOM3PIND',\n",
        " 'bminv_CHIRDOM5PIND',\n",
        " 'bminv_CHIRNTAX',\n",
        " 'bminv_CHIRPIND',\n",
        " 'bminv_CHIRPTAX',\n",
        " 'bminv_CLMBNTAX',\n",
        " 'bminv_CLMBPIND',\n",
        " 'bminv_CLMBPTAX',\n",
        " 'bminv_CLNGNTAX',\n",
        " 'bminv_CLNGPIND',\n",
        " 'bminv_CLNGPTAX',\n",
        " 'bminv_COFINTAX',\n",
        " 'bminv_COFIPIND',\n",
        " 'bminv_COFIPTAX',\n",
        " 'bminv_COFITRICNTAX',\n",
        " 'bminv_COFITRICPIND',\n",
        " 'bminv_COFITRICPTAX',\n",
        " 'bminv_COGANTAX',\n",
        " 'bminv_COGAPIND',\n",
        " 'bminv_COGAPTAX',\n",
        " 'bminv_CRUSNTAX',\n",
        " 'bminv_CRUSPIND',\n",
        " 'bminv_CRUSPTAX',\n",
        " 'bminv_DIPTNTAX',\n",
        " 'bminv_DIPTPIND',\n",
        " 'bminv_DIPTPTAX',\n",
        " 'bminv_DOM1PIND',\n",
        " 'bminv_DOM3PIND',\n",
        " 'bminv_DOM5PIND',\n",
        " 'bminv_EPHENTAX',\n",
        " 'bminv_EPHEPIND',\n",
        " 'bminv_EPHEPTAX',\n",
        " 'bminv_EPOTNTAX',\n",
        " 'bminv_EPOTPIND',\n",
        " 'bminv_EPOTPTAX',\n",
        " 'bminv_EPT_NTAX',\n",
        " 'bminv_EPT_PIND',\n",
        " 'bminv_EPT_PTAX',\n",
        " 'bminv_FACLNTAX',\n",
        " 'bminv_FACLPIND',\n",
        " 'bminv_FACLPTAX',\n",
        " 'bminv_HEMINTAX',\n",
        " 'bminv_HEMIPIND',\n",
        " 'bminv_HEMIPTAX',\n",
        " 'bminv_HPRIME',\n",
        " 'bminv_INTLNTAX',\n",
        " 'bminv_INTLPIND',\n",
        " 'bminv_INTLPTAX',\n",
        " 'bminv_MITENTAX',\n",
        " 'bminv_MITEPIND',\n",
        " 'bminv_MITEPTAX',\n",
        " 'bminv_MOLLNTAX',\n",
        " 'bminv_MOLLPIND',\n",
        " 'bminv_MOLLPTAX',\n",
        " 'bminv_NOINNTAX',\n",
        " 'bminv_NOINPIND',\n",
        " 'bminv_NOINPTAX',\n",
        " 'bminv_NTOLNTAX',\n",
        " 'bminv_NTOLPIND',\n",
        " 'bminv_NTOLPTAX',\n",
        " 'bminv_ODONNTAX',\n",
        " 'bminv_ODONPIND',\n",
        " 'bminv_ODONPTAX',\n",
        " 'bminv_OLLENTAX',\n",
        " 'bminv_OLLEPIND',\n",
        " 'bminv_OLLEPTAX',\n",
        " 'bminv_ORTHCHIRPIND',\n",
        " 'bminv_ORTHNTAX',\n",
        " 'bminv_ORTHPIND',\n",
        " 'bminv_ORTHPTAX',\n",
        " 'bminv_PLECNTAX',\n",
        " 'bminv_PLECPIND',\n",
        " 'bminv_PLECPTAX',\n",
        " 'bminv_PREDNTAX',\n",
        " 'bminv_PREDPIND',\n",
        " 'bminv_PREDPTAX',\n",
        " 'bminv_SCRPNTAX',\n",
        " 'bminv_SCRPPIND',\n",
        " 'bminv_SCRPPTAX',\n",
        " 'bminv_SHRDNTAX',\n",
        " 'bminv_SHRDPIND',\n",
        " 'bminv_SHRDPTAX',\n",
        " 'bminv_SPWLNTAX',\n",
        " 'bminv_SPWLPIND',\n",
        " 'bminv_SPWLPTAX',\n",
        " 'bminv_STOLNTAX',\n",
        " 'bminv_STOLPIND',\n",
        " 'bminv_STOLPTAX',\n",
        " 'bminv_SWIMNTAX',\n",
        " 'bminv_SWIMPIND',\n",
        " 'bminv_SWIMPTAX',\n",
        " 'bminv_TANYNTAX',\n",
        " 'bminv_TANYPIND',\n",
        " 'bminv_TANYPTAX',\n",
        " 'bminv_TL01NTAX',\n",
        " 'bminv_TL01PIND',\n",
        " 'bminv_TL01PTAX',\n",
        " 'bminv_TL23NTAX',\n",
        " 'bminv_TL23PIND',\n",
        " 'bminv_TL23PTAX',\n",
        " 'bminv_TL45NTAX',\n",
        " 'bminv_TL45PIND',\n",
        " 'bminv_TL45PTAX',\n",
        " 'bminv_TL67NTAX',\n",
        " 'bminv_TL67PIND',\n",
        " 'bminv_TL67PTAX',\n",
        " 'bminv_TOLRNTAX',\n",
        " 'bminv_TOLRPIND',\n",
        " 'bminv_TOLRPTAX',\n",
        " 'bminv_TOTLNIND',\n",
        " 'bminv_TOTLNTAX',\n",
        " 'bminv_TRICNTAX',\n",
        " 'bminv_TRICPIND',\n",
        " 'bminv_TRICPTAX',\n",
        " 'bminv_TUBINAIDNTAX',\n",
        " 'bminv_TUBINAIDPIND',\n",
        " 'bminv_TUBINAIDPTAX',\n",
        " 'bminv_WTD_TV']"
      ],
      "metadata": {
        "id": "yyufCzCGc_tS"
      },
      "execution_count": 2,
      "outputs": []
    },
    {
      "cell_type": "code",
      "source": [
        "#Demographic columns\n",
        "demo_string = \"name\tfips\tage_over_65\tstate\tpop2017\tpoverty\thomeownership\tmulti_unit\tunemployment_rate\tmetro\tmedian_edu\tmedian_hh_income\tsmoking_ban\tincidence_rate_per_100k\trecent_trend_cat\t5yr_trend\"\n",
        "demo_columns = demo_string.split()"
      ],
      "metadata": {
        "id": "dguigyNKdqX0"
      },
      "execution_count": 9,
      "outputs": []
    },
    {
      "cell_type": "code",
      "source": [
        "df_CDR = df.drop(columns=non_CDR_columns).copy()"
      ],
      "metadata": {
        "id": "_D4UiUsga_DX"
      },
      "execution_count": 10,
      "outputs": []
    },
    {
      "cell_type": "code",
      "source": [
        "df_CDR.dropna(inplace=True)"
      ],
      "metadata": {
        "id": "yLy9iuX8a6RA"
      },
      "execution_count": 12,
      "outputs": []
    },
    {
      "cell_type": "code",
      "source": [
        "df_CDR['recent_trend_cat'].value_counts()"
      ],
      "metadata": {
        "colab": {
          "base_uri": "https://localhost:8080/"
        },
        "id": "QPjeUNLC2Xra",
        "outputId": "af44d50a-ed54-4dd0-a67e-a9d244ded94d"
      },
      "execution_count": 13,
      "outputs": [
        {
          "output_type": "execute_result",
          "data": {
            "text/plain": [
              "stable     1145\n",
              "rising      253\n",
              "falling      38\n",
              "Name: recent_trend_cat, dtype: int64"
            ]
          },
          "metadata": {},
          "execution_count": 13
        }
      ]
    },
    {
      "cell_type": "code",
      "source": [
        "y = df_CDR['recent_trend_cat'].copy()"
      ],
      "metadata": {
        "id": "4byHL9_l0_T5"
      },
      "execution_count": 23,
      "outputs": []
    },
    {
      "cell_type": "code",
      "source": [
        "y.value_counts(normalize=True).max()"
      ],
      "metadata": {
        "colab": {
          "base_uri": "https://localhost:8080/"
        },
        "id": "Hpmo1gJy-cWB",
        "outputId": "4da83307-cdd5-4464-d26e-cb072c9e4fff"
      },
      "execution_count": 24,
      "outputs": [
        {
          "output_type": "execute_result",
          "data": {
            "text/plain": [
              "0.7973537604456824"
            ]
          },
          "metadata": {},
          "execution_count": 24
        }
      ]
    },
    {
      "cell_type": "code",
      "source": [
        "df_CDR.dtypes"
      ],
      "metadata": {
        "colab": {
          "base_uri": "https://localhost:8080/"
        },
        "id": "j_FDydF_9D2c",
        "outputId": "f7878a7b-b0fc-40e1-ae53-6f3d9a771072"
      },
      "execution_count": 15,
      "outputs": [
        {
          "output_type": "execute_result",
          "data": {
            "text/plain": [
              "name                                                          object\n",
              "fips                                                           int64\n",
              "age_over_65                                                  float64\n",
              "state                                                         object\n",
              "pop2017                                                      float64\n",
              "                                                              ...   \n",
              "4897    Soybean oil, Me ester, polymd., oxidized             float64\n",
              "5023    Dodecane, 1-(methylthio)-, manuf. of, by-produ...    float64\n",
              "5808    Naphtha (petroleum), heavy catalytic cracked, ...    float64\n",
              "8227    Fatty acids, tall-oil, maleated, sodium salts        float64\n",
              "8228    Fatty acids, tall-oil, reaction products with ...    float64\n",
              "Length: 6532, dtype: object"
            ]
          },
          "metadata": {},
          "execution_count": 15
        }
      ]
    },
    {
      "cell_type": "code",
      "source": [
        "X = df_CDR.select_dtypes(exclude=['object'])\n"
      ],
      "metadata": {
        "id": "uaD4HYtnjR5J"
      },
      "execution_count": 16,
      "outputs": []
    },
    {
      "cell_type": "code",
      "source": [
        "oh = OneHotEncoder(\n",
        "    sparse=False,\n",
        "    dtype=int,\n",
        "    categories=\"auto\"\n",
        ")\n",
        "\n",
        "y = oh.fit_transform(y.values.reshape(-1, 1))"
      ],
      "metadata": {
        "id": "tHHqKTZh2BgL"
      },
      "execution_count": 34,
      "outputs": []
    },
    {
      "cell_type": "code",
      "source": [
        "df_CDR.describe().max().sort_values(ascending=False)"
      ],
      "metadata": {
        "colab": {
          "base_uri": "https://localhost:8080/"
        },
        "id": "M1DO9TGz5lRM",
        "outputId": "a668cc39-46a3-48c9-f808-b620f0370c98"
      },
      "execution_count": 18,
      "outputs": [
        {
          "output_type": "execute_result",
          "data": {
            "text/plain": [
              "pop2017                                                       10163507.0\n",
              "median_hh_income                                                117515.0\n",
              "fips                                                             56045.0\n",
              "14698    2-Propenoic acid, 2-methyl-, 2-hydroxyethyl es...        1436.0\n",
              "14863    Phosphorodithioic acid, O,O-bis(2-methylpropyl...        1436.0\n",
              "                                                                 ...    \n",
              "10819    Octanoic acid, sodiumsalt (1:1)                          1436.0\n",
              "10816    Benzoic acid, 3,6-dichloro-2-methoxy-, sodium ...        1436.0\n",
              "10804    1,4-Benzenediol, 2-(1,1-dimethylethyl)-                  1436.0\n",
              "10796    1-Propanaminium, N,N,N-tripropyl-, bromide (1:1)         1436.0\n",
              "8228    Fatty acids, tall-oil, reaction products with ...         1436.0\n",
              "Length: 6529, dtype: float64"
            ]
          },
          "metadata": {},
          "execution_count": 18
        }
      ]
    },
    {
      "cell_type": "code",
      "source": [
        "df_CDR.shape"
      ],
      "metadata": {
        "colab": {
          "base_uri": "https://localhost:8080/"
        },
        "id": "vANNt1XqF7Sw",
        "outputId": "fcb33b45-7110-4660-e10c-7663daceb712"
      },
      "execution_count": 19,
      "outputs": [
        {
          "output_type": "execute_result",
          "data": {
            "text/plain": [
              "(1436, 6532)"
            ]
          },
          "metadata": {},
          "execution_count": 19
        }
      ]
    },
    {
      "cell_type": "code",
      "source": [
        "sc = StandardScaler()\n",
        "X_sc = sc.fit_transform(X)\n",
        "\n",
        "X_train, X_test, y_train, y_test = train_test_split(X_sc, y, stratify= y, test_size=0.2, random_state=4)\n",
        "\n",
        "model = Sequential()\n",
        "\n",
        "model.add(Dense(1000, activation='relu', input_shape=(X_train.shape[1],)))\n",
        "model.add(Dense(500, activation='relu', kernel_regularizer=l2(0.002)))\n",
        "model.add(Dropout(.05))\n",
        "model.add(Dense(256, activation='relu', kernel_regularizer=l2(0.002)))\n",
        "model.add(Dropout(.1))\n",
        "model.add(Dense(128, activation='relu', kernel_regularizer=l2(0.002)))\n",
        "model.add(Dropout(.3))\n",
        "model.add(Dense(128, activation='relu', kernel_regularizer=l2(0.002)))\n",
        "model.add(Dropout(.5))\n",
        "model.add(Dense(128, activation='relu', kernel_regularizer=l2(0.002)))\n",
        "model.add(Dense(64, activation='relu', kernel_regularizer=l2(0.002)))\n",
        "model.add(Dense(3, activation='softmax'))\n",
        "\n",
        "model.compile(loss='categorical_crossentropy', optimizer='adam', metrics=['mae', 'acc'])\n",
        "early_stop = EarlyStopping(monitor='val_loss', min_delta=0.1, patience=5, verbose=1, mode='auto')\n",
        "\n",
        "history = model.fit(\n",
        "    X_train,\n",
        "    y_train,\n",
        "    validation_data=(X_test, y_test),\n",
        "    epochs=20,\n",
        "    batch_size=32,\n",
        "    callbacks=[early_stop]\n",
        "\n",
        ")"
      ],
      "metadata": {
        "colab": {
          "base_uri": "https://localhost:8080/"
        },
        "outputId": "9d407d55-c8a1-4ee9-f8ea-835e12f5d3c2",
        "id": "s8n4zjDEhqww"
      },
      "execution_count": 22,
      "outputs": [
        {
          "output_type": "stream",
          "name": "stdout",
          "text": [
            "Epoch 1/20\n",
            "36/36 [==============================] - 3s 14ms/step - loss: 2.8801 - mae: 0.2521 - acc: 0.7962 - val_loss: 2.1397 - val_mae: 0.2632 - val_acc: 0.7986\n",
            "Epoch 2/20\n",
            "36/36 [==============================] - 0s 6ms/step - loss: 1.7372 - mae: 0.2030 - acc: 0.7970 - val_loss: 1.4500 - val_mae: 0.2063 - val_acc: 0.7986\n",
            "Epoch 3/20\n",
            "36/36 [==============================] - 0s 6ms/step - loss: 1.2380 - mae: 0.1872 - acc: 0.7970 - val_loss: 1.1370 - val_mae: 0.2217 - val_acc: 0.7986\n",
            "Epoch 4/20\n",
            "36/36 [==============================] - 0s 8ms/step - loss: 0.9837 - mae: 0.1802 - acc: 0.7970 - val_loss: 0.9531 - val_mae: 0.1937 - val_acc: 0.7986\n",
            "Epoch 5/20\n",
            "36/36 [==============================] - 0s 8ms/step - loss: 0.8126 - mae: 0.1644 - acc: 0.7970 - val_loss: 0.9117 - val_mae: 0.1481 - val_acc: 0.7986\n",
            "Epoch 6/20\n",
            "36/36 [==============================] - 0s 7ms/step - loss: 0.6871 - mae: 0.1488 - acc: 0.8188 - val_loss: 0.7482 - val_mae: 0.1535 - val_acc: 0.8194\n",
            "Epoch 7/20\n",
            "36/36 [==============================] - 0s 9ms/step - loss: 0.6209 - mae: 0.1340 - acc: 0.8589 - val_loss: 0.9889 - val_mae: 0.1189 - val_acc: 0.8542\n",
            "Epoch 8/20\n",
            "36/36 [==============================] - 0s 6ms/step - loss: 0.5625 - mae: 0.1319 - acc: 0.8571 - val_loss: 0.8948 - val_mae: 0.1159 - val_acc: 0.8681\n",
            "Epoch 9/20\n",
            "36/36 [==============================] - 0s 7ms/step - loss: 0.5513 - mae: 0.1394 - acc: 0.8423 - val_loss: 0.6260 - val_mae: 0.1455 - val_acc: 0.8333\n",
            "Epoch 10/20\n",
            "36/36 [==============================] - 0s 7ms/step - loss: 0.5097 - mae: 0.1318 - acc: 0.8537 - val_loss: 0.8199 - val_mae: 0.1273 - val_acc: 0.8611\n",
            "Epoch 11/20\n",
            "36/36 [==============================] - 0s 7ms/step - loss: 0.4604 - mae: 0.1161 - acc: 0.8824 - val_loss: 0.7470 - val_mae: 0.1223 - val_acc: 0.8681\n",
            "Epoch 12/20\n",
            "36/36 [==============================] - 0s 6ms/step - loss: 0.4356 - mae: 0.1178 - acc: 0.8772 - val_loss: 0.9769 - val_mae: 0.1211 - val_acc: 0.8472\n",
            "Epoch 13/20\n",
            "36/36 [==============================] - 0s 7ms/step - loss: 0.4392 - mae: 0.1147 - acc: 0.8798 - val_loss: 0.6587 - val_mae: 0.1222 - val_acc: 0.8542\n",
            "Epoch 14/20\n",
            "36/36 [==============================] - 0s 7ms/step - loss: 0.4082 - mae: 0.1103 - acc: 0.8990 - val_loss: 0.6047 - val_mae: 0.1178 - val_acc: 0.8715\n",
            "Epoch 14: early stopping\n"
          ]
        }
      ]
    },
    {
      "cell_type": "code",
      "source": [
        "preds = model.predict(X_sc)"
      ],
      "metadata": {
        "colab": {
          "base_uri": "https://localhost:8080/"
        },
        "id": "fPE42SUyGsPl",
        "outputId": "6963e83e-1b85-4fa6-d910-41215d6c96b8"
      },
      "execution_count": 25,
      "outputs": [
        {
          "output_type": "stream",
          "name": "stdout",
          "text": [
            "45/45 [==============================] - 0s 2ms/step\n"
          ]
        }
      ]
    },
    {
      "cell_type": "code",
      "source": [
        "preds_classes =np.argmax(preds,axis=1)"
      ],
      "metadata": {
        "id": "ibDS7rgHGPG1"
      },
      "execution_count": 26,
      "outputs": []
    },
    {
      "cell_type": "code",
      "source": [
        "preds_classes"
      ],
      "metadata": {
        "colab": {
          "base_uri": "https://localhost:8080/"
        },
        "id": "nYmuOM16Hqmw",
        "outputId": "7142828e-99e5-4733-ee29-c06b33cbf63e"
      },
      "execution_count": 37,
      "outputs": [
        {
          "output_type": "execute_result",
          "data": {
            "text/plain": [
              "array([2, 1, 2, ..., 1, 1, 1])"
            ]
          },
          "metadata": {},
          "execution_count": 37
        }
      ]
    },
    {
      "cell_type": "markdown",
      "source": [
        "While we attempted to make predictions in 3 classes (Rising, Stable, and Falling), our model only predicted Rising and Stable, likely because there are so few Falling counties. "
      ],
      "metadata": {
        "id": "lj9KwUfjHafb"
      }
    },
    {
      "cell_type": "code",
      "source": [
        "np.unique(preds_classes, return_counts=True)"
      ],
      "metadata": {
        "colab": {
          "base_uri": "https://localhost:8080/"
        },
        "id": "gkDNP6OaHJxr",
        "outputId": "298f7b1f-e2ec-423a-91f3-cc628fa4d384"
      },
      "execution_count": 27,
      "outputs": [
        {
          "output_type": "execute_result",
          "data": {
            "text/plain": [
              "(array([1, 2]), array([ 279, 1157]))"
            ]
          },
          "metadata": {},
          "execution_count": 27
        }
      ]
    },
    {
      "cell_type": "code",
      "source": [
        "with open('/content/drive/MyDrive/ga_data/cdr_nih_20221121.pkl', 'wb') as pickle_out:\n",
        "    pickle_out = pickle.dump(model, pickle_out)"
      ],
      "metadata": {
        "id": "-kBnzxgSWjOV"
      },
      "execution_count": 31,
      "outputs": []
    },
    {
      "cell_type": "code",
      "source": [
        "with open('/content/drive/MyDrive/ga_data/cdr_nih_20221121.pkl', 'rb') as pickle_out:\n",
        "    model = pickle.load(pickle_out)"
      ],
      "metadata": {
        "id": "nHk_C8qeq4XG"
      },
      "execution_count": null,
      "outputs": []
    }
  ]
}