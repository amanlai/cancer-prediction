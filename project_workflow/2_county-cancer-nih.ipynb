{
 "cells": [
  {
   "cell_type": "markdown",
   "id": "fa6075ec",
   "metadata": {},
   "source": [
    "## Imports"
   ]
  },
  {
   "cell_type": "code",
   "execution_count": 1,
   "id": "f33a8f7e",
   "metadata": {},
   "outputs": [],
   "source": [
    "import json\n",
    "from ast import literal_eval\n",
    "import numpy as np\n",
    "import pandas as pd"
   ]
  },
  {
   "cell_type": "markdown",
   "id": "cea6c583",
   "metadata": {},
   "source": [
    "## 1. Read NIH data"
   ]
  },
  {
   "cell_type": "code",
   "execution_count": 2,
   "id": "90f82213",
   "metadata": {},
   "outputs": [],
   "source": [
    "df = pd.read_csv('data/raw/incd.csv')"
   ]
  },
  {
   "cell_type": "code",
   "execution_count": 3,
   "id": "36508762",
   "metadata": {},
   "outputs": [],
   "source": [
    "with open('data/raw/state_abbrs.txt') as f:\n",
    "    state_abbr = literal_eval(''.join(f.readlines()[2:]))"
   ]
  },
  {
   "cell_type": "code",
   "execution_count": 4,
   "id": "f28963fa",
   "metadata": {},
   "outputs": [],
   "source": [
    "#cleaning NIH data\n",
    "df[['County', 'State2']] = df['State'].str.split(',', n=1, expand=True)\n",
    "df.dropna(inplace=True)\n",
    "df['State2'] = [state_abbr[e.lstrip()[:-3]].lower() for e in df['State2'].tolist()]\n",
    "\n",
    "# only keep county names in lower case\n",
    "df['County'] = [e.lower().replace(' county', '').replace(' parish', '') for e in df['County'].tolist()]\n",
    "\n",
    "# create a county-state column to be used for merge later\n",
    "df['County-State'] = [f\"{c}-{s}\" for c,s in df[['County', 'State2']].values.tolist()]"
   ]
  },
  {
   "cell_type": "code",
   "execution_count": null,
   "id": "52328aef",
   "metadata": {},
   "outputs": [],
   "source": [
    "# drop unnecessary columns\n",
    "df.drop(columns=['County', 'State2', 'State'], inplace=True)\n",
    "\n",
    "# save file\n",
    "df.to_csv('data/cleaned/nih_cancer_counties_20221111.csv', index=False)"
   ]
  },
  {
   "cell_type": "markdown",
   "id": "f575d865",
   "metadata": {},
   "source": [
    "## 2. Read CDR county data "
   ]
  },
  {
   "cell_type": "code",
   "execution_count": 5,
   "id": "67275767",
   "metadata": {},
   "outputs": [],
   "source": [
    "with open('data/raw/cdr-sites.json') as f:\n",
    "    sites = json.load(f)\n",
    "    counties = pd.DataFrame([e['properties'] for e in sites['features']])"
   ]
  },
  {
   "cell_type": "code",
   "execution_count": 6,
   "id": "9414e032",
   "metadata": {},
   "outputs": [],
   "source": [
    "# county-state column to merge on later\n",
    "counties['County-State']  = counties['SITE_COUNTY'] + '-' + counties['SITE_STATE']"
   ]
  },
  {
   "cell_type": "code",
   "execution_count": null,
   "id": "fe5789ba",
   "metadata": {},
   "outputs": [],
   "source": [
    "# drop unnecessary columns\n",
    "counties.drop(columns=['SITE_COUNTY', 'SITE_STATE'], inplace=True)\n",
    "\n",
    "# save file\n",
    "counties.to_csv('data/cleaned/epa_cdr_sites_20221111.csv', index=False)"
   ]
  },
  {
   "cell_type": "markdown",
   "id": "a86cc0e9",
   "metadata": {},
   "source": [
    "## 3. Read CDR chemicals data"
   ]
  },
  {
   "cell_type": "code",
   "execution_count": 7,
   "id": "fe220a0e",
   "metadata": {},
   "outputs": [],
   "source": [
    "with open('data/raw/cdr_chemicals.json') as f:\n",
    "    chems_j = json.load(f)\n",
    "    chems = pd.DataFrame([e['properties'] for e in chems_j['features']])\n",
    "\n",
    "# clean up county column\n",
    "chems['SITE_COUNTY'] = chems['SITE_COUNTY'].str.lower().str.replace(\" county\", '').str.replace(' parish', '')\n",
    "\n",
    "# create a county-state column to be used for merge later\n",
    "chems['County-State'] = (chems['SITE_COUNTY'] + '-' + chems['SITE_STATE']).str.lower()"
   ]
  },
  {
   "cell_type": "markdown",
   "id": "9a467a29",
   "metadata": {},
   "source": [
    "## 4. Read CDR 2020 data"
   ]
  },
  {
   "cell_type": "code",
   "execution_count": 8,
   "id": "7f71f9d8",
   "metadata": {},
   "outputs": [],
   "source": [
    "chems_2020 = pd.read_csv('data/raw/cdr_2020_small_cut_v2.csv')\n",
    "\n",
    "# clean up county column\n",
    "chems_2020['SITE COUNTY / PARISH'] = chems_2020['SITE COUNTY / PARISH'].str.lower()\n",
    "chems_2020['SITE COUNTY / PARISH'] = chems_2020['SITE COUNTY / PARISH'].str.replace(\" county\", '').str.replace(' parish', '')\n",
    "\n",
    "# create a county-state column to be used for merge later\n",
    "chems_2020['County-State'] = chems_2020['SITE COUNTY / PARISH'] + '-' + chems_2020['SITE STATE']\n",
    "chems_2020['County-State'] = (chems_2020['County-State']).str.lower()"
   ]
  },
  {
   "cell_type": "code",
   "execution_count": 9,
   "id": "57405d8a",
   "metadata": {},
   "outputs": [],
   "source": [
    "chems_2020.to_csv('data/cleaned/cdr_2020_chemicals_20221117.csv', index=False)"
   ]
  },
  {
   "cell_type": "markdown",
   "id": "5b5f94b1",
   "metadata": {},
   "source": [
    "## 4. Merge NIH data to CDR data on County-State"
   ]
  },
  {
   "cell_type": "code",
   "execution_count": 10,
   "id": "9361ea1f",
   "metadata": {},
   "outputs": [],
   "source": [
    "# merge NIH to CDR chemicals\n",
    "everything = chems.merge(df).dropna(axis=1)"
   ]
  },
  {
   "cell_type": "code",
   "execution_count": 11,
   "id": "9302f882",
   "metadata": {},
   "outputs": [
    {
     "data": {
      "text/plain": [
       "stable                18225\n",
       "rising                 6182\n",
       "falling                2703\n",
       "*                       743\n",
       "data not available      503\n",
       "Name: Recent Trend, dtype: int64"
      ]
     },
     "execution_count": 11,
     "metadata": {},
     "output_type": "execute_result"
    }
   ],
   "source": [
    "everything['Recent Trend'].value_counts()"
   ]
  },
  {
   "cell_type": "code",
   "execution_count": 12,
   "id": "274de70a",
   "metadata": {},
   "outputs": [],
   "source": [
    "everything.to_csv('data/cleaned/epa_nih_county_join_20221111.csv', index=False)"
   ]
  },
  {
   "cell_type": "code",
   "execution_count": null,
   "id": "5bb25cf1",
   "metadata": {},
   "outputs": [],
   "source": []
  }
 ],
 "metadata": {
  "kernelspec": {
   "display_name": "Python 3 (ipykernel)",
   "language": "python",
   "name": "python3"
  },
  "language_info": {
   "codemirror_mode": {
    "name": "ipython",
    "version": 3
   },
   "file_extension": ".py",
   "mimetype": "text/x-python",
   "name": "python",
   "nbconvert_exporter": "python",
   "pygments_lexer": "ipython3",
   "version": "3.9.12"
  }
 },
 "nbformat": 4,
 "nbformat_minor": 5
}
