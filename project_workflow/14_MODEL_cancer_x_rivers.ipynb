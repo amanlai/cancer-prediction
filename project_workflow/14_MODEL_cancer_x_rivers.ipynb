{
 "cells": [
  {
   "cell_type": "markdown",
   "id": "59bd99f2",
   "metadata": {},
   "source": [
    "# Predicting cancer on rivers dataset"
   ]
  },
  {
   "cell_type": "code",
   "execution_count": 1,
   "id": "3d3574af",
   "metadata": {},
   "outputs": [],
   "source": [
    "import pandas as pd\n",
    "\n",
    "from sklearn.linear_model import LogisticRegression\n",
    "from sklearn.ensemble import RandomForestClassifier\n",
    "from sklearn.model_selection import train_test_split\n",
    "from sklearn.preprocessing import StandardScaler\n",
    "\n",
    "import matplotlib.pyplot as plt\n",
    "from sklearn.metrics import ConfusionMatrixDisplay"
   ]
  },
  {
   "cell_type": "code",
   "execution_count": 2,
   "id": "bca8bf74",
   "metadata": {},
   "outputs": [],
   "source": [
    "data = pd.read_csv(\"data/processed/full_county_dataset.csv\")"
   ]
  },
  {
   "cell_type": "code",
   "execution_count": 3,
   "id": "4d2697a1",
   "metadata": {},
   "outputs": [
    {
     "data": {
      "text/html": [
       "<div>\n",
       "<style scoped>\n",
       "    .dataframe tbody tr th:only-of-type {\n",
       "        vertical-align: middle;\n",
       "    }\n",
       "\n",
       "    .dataframe tbody tr th {\n",
       "        vertical-align: top;\n",
       "    }\n",
       "\n",
       "    .dataframe thead th {\n",
       "        text-align: right;\n",
       "    }\n",
       "</style>\n",
       "<table border=\"1\" class=\"dataframe\">\n",
       "  <thead>\n",
       "    <tr style=\"text-align: right;\">\n",
       "      <th></th>\n",
       "      <th>hab_XBKA</th>\n",
       "      <th>hab_MEDBK_A</th>\n",
       "      <th>hab_XUN</th>\n",
       "      <th>hab_MEDBKUN</th>\n",
       "      <th>hab_XCDENMID</th>\n",
       "      <th>hab_XCDENBK</th>\n",
       "      <th>hab_CONPERCENT</th>\n",
       "      <th>hab_PCT_FA</th>\n",
       "      <th>hab_PCT_DR</th>\n",
       "      <th>hab_PCT_FAST</th>\n",
       "      <th>...</th>\n",
       "      <th>bminv_TOTLNIND</th>\n",
       "      <th>bminv_TOTLNTAX</th>\n",
       "      <th>bminv_TRICNTAX</th>\n",
       "      <th>bminv_TRICPIND</th>\n",
       "      <th>bminv_TRICPTAX</th>\n",
       "      <th>bminv_TUBINAIDNTAX</th>\n",
       "      <th>bminv_TUBINAIDPIND</th>\n",
       "      <th>bminv_TUBINAIDPTAX</th>\n",
       "      <th>bminv_WTD_TV</th>\n",
       "      <th>recent_trend_cat</th>\n",
       "    </tr>\n",
       "  </thead>\n",
       "  <tbody>\n",
       "    <tr>\n",
       "      <th>0</th>\n",
       "      <td>NaN</td>\n",
       "      <td>NaN</td>\n",
       "      <td>NaN</td>\n",
       "      <td>NaN</td>\n",
       "      <td>NaN</td>\n",
       "      <td>NaN</td>\n",
       "      <td>NaN</td>\n",
       "      <td>NaN</td>\n",
       "      <td>NaN</td>\n",
       "      <td>NaN</td>\n",
       "      <td>...</td>\n",
       "      <td>NaN</td>\n",
       "      <td>NaN</td>\n",
       "      <td>NaN</td>\n",
       "      <td>NaN</td>\n",
       "      <td>NaN</td>\n",
       "      <td>NaN</td>\n",
       "      <td>NaN</td>\n",
       "      <td>NaN</td>\n",
       "      <td>NaN</td>\n",
       "      <td>stable</td>\n",
       "    </tr>\n",
       "    <tr>\n",
       "      <th>1</th>\n",
       "      <td>34.535463</td>\n",
       "      <td>30.429749</td>\n",
       "      <td>0.541787</td>\n",
       "      <td>0.386457</td>\n",
       "      <td>50.636641</td>\n",
       "      <td>27.74</td>\n",
       "      <td>0.0</td>\n",
       "      <td>0.0</td>\n",
       "      <td>0.0</td>\n",
       "      <td>0.00</td>\n",
       "      <td>...</td>\n",
       "      <td>300.0</td>\n",
       "      <td>25.50</td>\n",
       "      <td>1.00</td>\n",
       "      <td>0.34</td>\n",
       "      <td>3.22</td>\n",
       "      <td>0.5</td>\n",
       "      <td>1.16</td>\n",
       "      <td>2.50</td>\n",
       "      <td>6.01</td>\n",
       "      <td>rising</td>\n",
       "    </tr>\n",
       "    <tr>\n",
       "      <th>2</th>\n",
       "      <td>NaN</td>\n",
       "      <td>NaN</td>\n",
       "      <td>NaN</td>\n",
       "      <td>NaN</td>\n",
       "      <td>NaN</td>\n",
       "      <td>NaN</td>\n",
       "      <td>NaN</td>\n",
       "      <td>NaN</td>\n",
       "      <td>NaN</td>\n",
       "      <td>NaN</td>\n",
       "      <td>...</td>\n",
       "      <td>NaN</td>\n",
       "      <td>NaN</td>\n",
       "      <td>NaN</td>\n",
       "      <td>NaN</td>\n",
       "      <td>NaN</td>\n",
       "      <td>NaN</td>\n",
       "      <td>NaN</td>\n",
       "      <td>NaN</td>\n",
       "      <td>NaN</td>\n",
       "      <td>stable</td>\n",
       "    </tr>\n",
       "    <tr>\n",
       "      <th>3</th>\n",
       "      <td>44.000000</td>\n",
       "      <td>42.000000</td>\n",
       "      <td>0.010000</td>\n",
       "      <td>0.000000</td>\n",
       "      <td>90.370000</td>\n",
       "      <td>85.96</td>\n",
       "      <td>80.0</td>\n",
       "      <td>0.0</td>\n",
       "      <td>0.0</td>\n",
       "      <td>8.75</td>\n",
       "      <td>...</td>\n",
       "      <td>300.0</td>\n",
       "      <td>42.75</td>\n",
       "      <td>5.25</td>\n",
       "      <td>10.92</td>\n",
       "      <td>12.04</td>\n",
       "      <td>1.5</td>\n",
       "      <td>2.67</td>\n",
       "      <td>3.66</td>\n",
       "      <td>4.80</td>\n",
       "      <td>stable</td>\n",
       "    </tr>\n",
       "    <tr>\n",
       "      <th>4</th>\n",
       "      <td>40.330000</td>\n",
       "      <td>31.500000</td>\n",
       "      <td>0.010000</td>\n",
       "      <td>0.000000</td>\n",
       "      <td>40.240000</td>\n",
       "      <td>47.59</td>\n",
       "      <td>70.0</td>\n",
       "      <td>0.0</td>\n",
       "      <td>0.0</td>\n",
       "      <td>27.96</td>\n",
       "      <td>...</td>\n",
       "      <td>300.0</td>\n",
       "      <td>40.00</td>\n",
       "      <td>2.00</td>\n",
       "      <td>1.33</td>\n",
       "      <td>5.00</td>\n",
       "      <td>2.0</td>\n",
       "      <td>9.33</td>\n",
       "      <td>5.00</td>\n",
       "      <td>6.46</td>\n",
       "      <td>stable</td>\n",
       "    </tr>\n",
       "  </tbody>\n",
       "</table>\n",
       "<p>5 rows × 261 columns</p>\n",
       "</div>"
      ],
      "text/plain": [
       "    hab_XBKA  hab_MEDBK_A   hab_XUN  hab_MEDBKUN  hab_XCDENMID  hab_XCDENBK  \\\n",
       "0        NaN          NaN       NaN          NaN           NaN          NaN   \n",
       "1  34.535463    30.429749  0.541787     0.386457     50.636641        27.74   \n",
       "2        NaN          NaN       NaN          NaN           NaN          NaN   \n",
       "3  44.000000    42.000000  0.010000     0.000000     90.370000        85.96   \n",
       "4  40.330000    31.500000  0.010000     0.000000     40.240000        47.59   \n",
       "\n",
       "   hab_CONPERCENT  hab_PCT_FA  hab_PCT_DR  hab_PCT_FAST  ...  bminv_TOTLNIND  \\\n",
       "0             NaN         NaN         NaN           NaN  ...             NaN   \n",
       "1             0.0         0.0         0.0          0.00  ...           300.0   \n",
       "2             NaN         NaN         NaN           NaN  ...             NaN   \n",
       "3            80.0         0.0         0.0          8.75  ...           300.0   \n",
       "4            70.0         0.0         0.0         27.96  ...           300.0   \n",
       "\n",
       "   bminv_TOTLNTAX  bminv_TRICNTAX  bminv_TRICPIND  bminv_TRICPTAX  \\\n",
       "0             NaN             NaN             NaN             NaN   \n",
       "1           25.50            1.00            0.34            3.22   \n",
       "2             NaN             NaN             NaN             NaN   \n",
       "3           42.75            5.25           10.92           12.04   \n",
       "4           40.00            2.00            1.33            5.00   \n",
       "\n",
       "   bminv_TUBINAIDNTAX  bminv_TUBINAIDPIND  bminv_TUBINAIDPTAX  bminv_WTD_TV  \\\n",
       "0                 NaN                 NaN                 NaN           NaN   \n",
       "1                 0.5                1.16                2.50          6.01   \n",
       "2                 NaN                 NaN                 NaN           NaN   \n",
       "3                 1.5                2.67                3.66          4.80   \n",
       "4                 2.0                9.33                5.00          6.46   \n",
       "\n",
       "   recent_trend_cat  \n",
       "0            stable  \n",
       "1            rising  \n",
       "2            stable  \n",
       "3            stable  \n",
       "4            stable  \n",
       "\n",
       "[5 rows x 261 columns]"
      ]
     },
     "execution_count": 3,
     "metadata": {},
     "output_type": "execute_result"
    }
   ],
   "source": [
    "rivers = data[data.columns[6543:].tolist() + ['recent_trend_cat']].copy()\n",
    "rivers.head()"
   ]
  },
  {
   "cell_type": "code",
   "execution_count": 4,
   "id": "b795581b",
   "metadata": {},
   "outputs": [
    {
     "data": {
      "text/plain": [
       "True"
      ]
     },
     "execution_count": 4,
     "metadata": {},
     "output_type": "execute_result"
    }
   ],
   "source": [
    "rivers.eq(float('inf')).any().any()"
   ]
  },
  {
   "cell_type": "code",
   "execution_count": 5,
   "id": "9c6e4591",
   "metadata": {},
   "outputs": [
    {
     "data": {
      "text/plain": [
       "True"
      ]
     },
     "execution_count": 5,
     "metadata": {},
     "output_type": "execute_result"
    }
   ],
   "source": [
    "rivers['recent_trend_cat'].isna().any()"
   ]
  },
  {
   "cell_type": "markdown",
   "id": "1414ac96",
   "metadata": {},
   "source": [
    "There are two things to consider:\n",
    "\n",
    "- There are values that are infinite. ML models can't deal with those, so will drop columns with infinite values.\n",
    "- `recent_trend_cat` has missing values. Since this is the `y` variable, any row where this is missing is dropped."
   ]
  },
  {
   "cell_type": "code",
   "execution_count": 6,
   "id": "ee8d6f96",
   "metadata": {},
   "outputs": [],
   "source": [
    "rivers = rivers.loc[rivers['recent_trend_cat'].notna(), rivers.ne(float('inf')).all()]"
   ]
  },
  {
   "cell_type": "markdown",
   "id": "d8f5e9af",
   "metadata": {},
   "source": [
    "# Model : Preprocessing"
   ]
  },
  {
   "cell_type": "code",
   "execution_count": 7,
   "id": "adbd17c7",
   "metadata": {},
   "outputs": [],
   "source": [
    "X = rivers.dropna()\n",
    "y = X.pop('recent_trend_cat')\n",
    "\n",
    "X_train, X_test, y_train, y_test = train_test_split(X, y, random_state=2022, stratify=y)\n",
    "\n",
    "sc = StandardScaler()\n",
    "Z_train = sc.fit_transform(X_train)\n",
    "Z_test = sc.transform(X_test)"
   ]
  },
  {
   "cell_type": "markdown",
   "id": "602e851b",
   "metadata": {},
   "source": [
    "# Baseline"
   ]
  },
  {
   "cell_type": "code",
   "execution_count": 8,
   "id": "273204e6",
   "metadata": {},
   "outputs": [
    {
     "data": {
      "text/plain": [
       "0.815068493150685"
      ]
     },
     "execution_count": 8,
     "metadata": {},
     "output_type": "execute_result"
    }
   ],
   "source": [
    "y_test.eq(y_train.mode()[0]).mean()"
   ]
  },
  {
   "cell_type": "markdown",
   "id": "c8f37173",
   "metadata": {},
   "source": [
    "# Model 1: Logistic Regression"
   ]
  },
  {
   "cell_type": "code",
   "execution_count": 9,
   "id": "6ba4868f",
   "metadata": {},
   "outputs": [],
   "source": [
    "log = LogisticRegression(penalty='l2', C=0.01, max_iter=10000)\n",
    "log.fit(Z_train, y_train);"
   ]
  },
  {
   "cell_type": "code",
   "execution_count": 10,
   "id": "fd61ff3d",
   "metadata": {},
   "outputs": [
    {
     "name": "stdout",
     "output_type": "stream",
     "text": [
      "Train accuracy = 0.8242009132420092\n",
      "Test accuracy  = 0.815068493150685\n"
     ]
    }
   ],
   "source": [
    "print(\"Train accuracy =\", log.score(Z_train, y_train))\n",
    "print(\"Test accuracy  =\", log.score(Z_test, y_test))"
   ]
  },
  {
   "cell_type": "markdown",
   "id": "e4923822",
   "metadata": {},
   "source": [
    "# Model 2: Random Forest"
   ]
  },
  {
   "cell_type": "code",
   "execution_count": 11,
   "id": "7e305d23",
   "metadata": {},
   "outputs": [],
   "source": [
    "rf = RandomForestClassifier(max_depth=1, n_estimators=300, n_jobs=-1)\n",
    "rf.fit(X_train, y_train);"
   ]
  },
  {
   "cell_type": "code",
   "execution_count": 12,
   "id": "9eb951b2",
   "metadata": {},
   "outputs": [
    {
     "name": "stdout",
     "output_type": "stream",
     "text": [
      "Train accuracy = 0.8162100456621004\n",
      "Test accuracy  = 0.815068493150685\n"
     ]
    }
   ],
   "source": [
    "print(\"Train accuracy =\", rf.score(X_train, y_train))\n",
    "print(\"Test accuracy  =\", rf.score(X_test, y_test))"
   ]
  },
  {
   "cell_type": "code",
   "execution_count": 17,
   "id": "265a82f0",
   "metadata": {},
   "outputs": [
    {
     "data": {
      "image/png": "[encoded data removed]",
      "text/plain": [
       "<Figure size 1440x360 with 4 Axes>"
      ]
     },
     "metadata": {
      "needs_background": "light"
     },
     "output_type": "display_data"
    }
   ],
   "source": [
    "fig, axs = plt.subplots(1, 3, figsize=(20,5))\n",
    "\n",
    "ConfusionMatrixDisplay.from_predictions(y_test, pd.Series(y_train.mode()[0], index=y_test.index), ax=axs[0], colorbar=False)\n",
    "axs[0].set_title(\"The Baseline\", fontsize=15, pad=20, loc='left')\n",
    "\n",
    "ConfusionMatrixDisplay.from_estimator(log, Z_test, y_test, ax=axs[1], colorbar=False)\n",
    "axs[1].set_title(\"Logistic Regression\", fontsize=15, pad=20, loc='left')\n",
    "\n",
    "ConfusionMatrixDisplay.from_estimator(rf, X_test, y_test, ax=axs[2])\n",
    "axs[2].set_title(\"Random Forest\", fontsize=15, pad=20, loc='left')\n",
    "\n",
    "fig.savefig('images/river_cm.png', transparent=True, bbox_inches=\"tight\");"
   ]
  },
  {
   "cell_type": "code",
   "execution_count": null,
   "id": "297a58d0",
   "metadata": {},
   "outputs": [],
   "source": []
  }
 ],
 "metadata": {
  "kernelspec": {
   "display_name": "Python 3.9.12",
   "language": "python",
   "name": "python3"
  },
  "language_info": {
   "codemirror_mode": {
    "name": "ipython",
    "version": 3
   },
   "file_extension": ".py",
   "mimetype": "text/x-python",
   "name": "python",
   "nbconvert_exporter": "python",
   "pygments_lexer": "ipython3",
   "version": "3.9.12"
  }
 },
 "nbformat": 4,
 "nbformat_minor": 5
}
