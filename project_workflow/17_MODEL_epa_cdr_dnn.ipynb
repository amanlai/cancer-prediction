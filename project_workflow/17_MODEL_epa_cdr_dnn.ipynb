{
  "nbformat": 4,
  "nbformat_minor": 0,
  "metadata": {
    "colab": {
      "provenance": [],
      "machine_shape": "hm"
    },
    "kernelspec": {
      "name": "python3",
      "display_name": "Python 3"
    },
    "language_info": {
      "name": "python"
    },
    "accelerator": "GPU",
    "gpuClass": "standard"
  },
  "cells": [
    {
      "cell_type": "markdown",
      "source": [
        "# DNN on EPA CDR Data"
      ],
      "metadata": {
        "id": "X8eog-BY8IW0"
      }
    },
    {
      "cell_type": "code",
      "source": [
        "import numpy as np\n",
        "import pandas as pd\n",
        "import matplotlib.pyplot as plt\n",
        "import pickle\n",
        "\n",
        "from sklearn.preprocessing import StandardScaler, OneHotEncoder\n",
        "from sklearn.model_selection import train_test_split\n",
        "\n",
        "# Tensorflow imports below...\n",
        "from tensorflow.keras.models import Sequential\n",
        "from tensorflow.keras.layers import Dense, Dropout, GRU\n",
        "from tensorflow.keras.regularizers import l2\n",
        "from tensorflow.keras.callbacks import EarlyStopping"
      ],
      "metadata": {
        "id": "bWrGYoNIaPkq"
      },
      "execution_count": 1,
      "outputs": []
    },
    {
      "cell_type": "markdown",
      "source": [
        "## Read in Data"
      ],
      "metadata": {
        "id": "OZ4qUGZ88Djj"
      }
    },
    {
      "cell_type": "code",
      "execution_count": 2,
      "metadata": {
        "id": "1hbf2QMvaFeo"
      },
      "outputs": [],
      "source": [
        "df = pd.read_csv('/content/drive/MyDrive/ga_data/full_county_dataset.csv')"
      ]
    },
    {
      "cell_type": "markdown",
      "source": [
        "## Columns to drop to focus on CDR data"
      ],
      "metadata": {
        "id": "ItiGk4ZG7xZH"
      }
    },
    {
      "cell_type": "code",
      "source": [
        "non_CDR_columns = ['profile_STATECTY',\n",
        " 'profile_CNTYNAME',\n",
        " 'profile_ELEVATION',\n",
        " 'profile_UID',\n",
        " 'profile_LAT_DD83',\n",
        " 'profile_LON_DD83',\n",
        " 'hab_XBKA',\n",
        " 'hab_MEDBK_A',\n",
        " 'hab_XUN',\n",
        " 'hab_MEDBKUN',\n",
        " 'hab_XCDENMID',\n",
        " 'hab_XCDENBK',\n",
        " 'hab_CONPERCENT',\n",
        " 'hab_PCT_FA',\n",
        " 'hab_PCT_DR',\n",
        " 'hab_PCT_FAST',\n",
        " 'hab_PCT_SLOW',\n",
        " 'hab_PCT_POOL',\n",
        " 'hab_XWIDTH',\n",
        " 'hab_SDWIDTH',\n",
        " 'hab_XBKF_W',\n",
        " 'hab_XBKF_H',\n",
        " 'hab_XINC_H',\n",
        " 'hab_SDINC_H',\n",
        " 'hab_BFWD_RAT',\n",
        " 'hab_XWXD',\n",
        " 'hab_XWD_RAT',\n",
        " 'hab_SDWXD',\n",
        " 'hab_SDWD_RAT',\n",
        " 'hab_XDEPTH_CM',\n",
        " 'hab_SDDEPTH_CM',\n",
        " 'hab_XFC_ALG',\n",
        " 'hab_XFC_RCK',\n",
        " 'hab_XFC_BRS',\n",
        " 'hab_XFC_LVT',\n",
        " 'hab_XFC_AQM',\n",
        " 'hab_XFC_OHV',\n",
        " 'hab_XFC_HUM',\n",
        " 'hab_XFC_UCB',\n",
        " 'hab_XFC_LWD',\n",
        " 'hab_XFC_NAT',\n",
        " 'hab_XFC_BIG',\n",
        " 'hab_XFC_ALL',\n",
        " 'hab_PCT_SIDE',\n",
        " 'hab_REACHLEN',\n",
        " 'hab_W1_HAG',\n",
        " 'hab_W1_HNOAG',\n",
        " 'hab_W1_HALL',\n",
        " 'hab_W1H_BLDG',\n",
        " 'hab_W1H_LDFL',\n",
        " 'hab_W1H_LOG',\n",
        " 'hab_W1H_MINE',\n",
        " 'hab_W1H_PARK',\n",
        " 'hab_W1H_PSTR',\n",
        " 'hab_W1H_PVMT',\n",
        " 'hab_W1H_PIPE',\n",
        " 'hab_W1H_ROAD',\n",
        " 'hab_W1H_CROP',\n",
        " 'hab_W1H_WALL',\n",
        " 'hab_C1WM100',\n",
        " 'hab_C2WM100',\n",
        " 'hab_C4WM100',\n",
        " 'hab_V1WM100',\n",
        " 'hab_V1W_MSQ',\n",
        " 'hab_V2WM100',\n",
        " 'hab_V2W_MSQ',\n",
        " 'hab_V4WM100',\n",
        " 'hab_V4W_MSQ',\n",
        " 'hab_PCAN_C',\n",
        " 'hab_PCAN_D',\n",
        " 'hab_PCAN_E',\n",
        " 'hab_PCAN_M',\n",
        " 'hab_PCAN_N',\n",
        " 'hab_XCL',\n",
        " 'hab_XCS',\n",
        " 'hab_XMW',\n",
        " 'hab_XMH',\n",
        " 'hab_XGW',\n",
        " 'hab_XGH',\n",
        " 'hab_XGB',\n",
        " 'hab_XC',\n",
        " 'hab_XM',\n",
        " 'hab_XCMW',\n",
        " 'hab_XCM',\n",
        " 'hab_XG',\n",
        " 'hab_XCMGW',\n",
        " 'hab_XCMG',\n",
        " 'hab_XPCAN',\n",
        " 'hab_XPMID',\n",
        " 'hab_XPMGW',\n",
        " 'hab_XPCM',\n",
        " 'hab_XPCMG',\n",
        " 'hab_XSLOPE',\n",
        " 'hab_XSLOPE_MAP',\n",
        " 'hab_XSLOPE_FIELD',\n",
        " 'hab_PCTCLINOMETER',\n",
        " 'hab_XBEARING',\n",
        " 'hab_SINU',\n",
        " 'hab_LSUB_DMM',\n",
        " 'hab_LSUBD_SD',\n",
        " 'hab_LSUB_DMM_NOR',\n",
        " 'hab_PCT_FN',\n",
        " 'hab_PCT_GC',\n",
        " 'hab_PCT_GF',\n",
        " 'hab_PCT_HP',\n",
        " 'hab_PCT_OM',\n",
        " 'hab_PCT_OT',\n",
        " 'hab_PCT_RC',\n",
        " 'hab_PCT_SA',\n",
        " 'hab_PCT_WD',\n",
        " 'hab_PCT_BIGR',\n",
        " 'hab_PCT_BDRK',\n",
        " 'hab_PCT_SAFN',\n",
        " 'hab_PCT_SFGF',\n",
        " 'hab_PCT_ORG',\n",
        " 'hab_XEMBED',\n",
        " 'hab_XCEMBED',\n",
        " 'hab_RPXDEP_CM',\n",
        " 'hab_RPMXDEP_CM',\n",
        " 'hab_RPGT50',\n",
        " 'hab_RPGT75',\n",
        " 'hab_RP100',\n",
        " 'hab_LTEST',\n",
        " 'hab_LRBS_TST',\n",
        " 'hab_LDMB_BW5',\n",
        " 'hab_LRBS_BW5',\n",
        " 'hab_LDCBF_G08',\n",
        " 'hab_LRBS_G08',\n",
        " 'hab_PCT_SFG',\n",
        " 'hab_PCT_BH',\n",
        " 'hab_XSHOR2VG',\n",
        " 'hab_PCT_OVRB',\n",
        " 'hab_PCT_GL',\n",
        " 'hab_C1TM100',\n",
        " 'hab_C2TM100',\n",
        " 'hab_C4TM100',\n",
        " 'hab_PCT_GR',\n",
        " 'hab_RDIST1',\n",
        " 'hab_QR1',\n",
        " 'hab_CVWIDTH',\n",
        " 'hab_CVWXD',\n",
        " 'bminv_AMPHNTAX',\n",
        " 'bminv_AMPHPIND',\n",
        " 'bminv_AMPHPTAX',\n",
        " 'bminv_BURRNTAX',\n",
        " 'bminv_BURRPIND',\n",
        " 'bminv_BURRPTAX',\n",
        " 'bminv_CHIRDOM1PIND',\n",
        " 'bminv_CHIRDOM3PIND',\n",
        " 'bminv_CHIRDOM5PIND',\n",
        " 'bminv_CHIRNTAX',\n",
        " 'bminv_CHIRPIND',\n",
        " 'bminv_CHIRPTAX',\n",
        " 'bminv_CLMBNTAX',\n",
        " 'bminv_CLMBPIND',\n",
        " 'bminv_CLMBPTAX',\n",
        " 'bminv_CLNGNTAX',\n",
        " 'bminv_CLNGPIND',\n",
        " 'bminv_CLNGPTAX',\n",
        " 'bminv_COFINTAX',\n",
        " 'bminv_COFIPIND',\n",
        " 'bminv_COFIPTAX',\n",
        " 'bminv_COFITRICNTAX',\n",
        " 'bminv_COFITRICPIND',\n",
        " 'bminv_COFITRICPTAX',\n",
        " 'bminv_COGANTAX',\n",
        " 'bminv_COGAPIND',\n",
        " 'bminv_COGAPTAX',\n",
        " 'bminv_CRUSNTAX',\n",
        " 'bminv_CRUSPIND',\n",
        " 'bminv_CRUSPTAX',\n",
        " 'bminv_DIPTNTAX',\n",
        " 'bminv_DIPTPIND',\n",
        " 'bminv_DIPTPTAX',\n",
        " 'bminv_DOM1PIND',\n",
        " 'bminv_DOM3PIND',\n",
        " 'bminv_DOM5PIND',\n",
        " 'bminv_EPHENTAX',\n",
        " 'bminv_EPHEPIND',\n",
        " 'bminv_EPHEPTAX',\n",
        " 'bminv_EPOTNTAX',\n",
        " 'bminv_EPOTPIND',\n",
        " 'bminv_EPOTPTAX',\n",
        " 'bminv_EPT_NTAX',\n",
        " 'bminv_EPT_PIND',\n",
        " 'bminv_EPT_PTAX',\n",
        " 'bminv_FACLNTAX',\n",
        " 'bminv_FACLPIND',\n",
        " 'bminv_FACLPTAX',\n",
        " 'bminv_HEMINTAX',\n",
        " 'bminv_HEMIPIND',\n",
        " 'bminv_HEMIPTAX',\n",
        " 'bminv_HPRIME',\n",
        " 'bminv_INTLNTAX',\n",
        " 'bminv_INTLPIND',\n",
        " 'bminv_INTLPTAX',\n",
        " 'bminv_MITENTAX',\n",
        " 'bminv_MITEPIND',\n",
        " 'bminv_MITEPTAX',\n",
        " 'bminv_MOLLNTAX',\n",
        " 'bminv_MOLLPIND',\n",
        " 'bminv_MOLLPTAX',\n",
        " 'bminv_NOINNTAX',\n",
        " 'bminv_NOINPIND',\n",
        " 'bminv_NOINPTAX',\n",
        " 'bminv_NTOLNTAX',\n",
        " 'bminv_NTOLPIND',\n",
        " 'bminv_NTOLPTAX',\n",
        " 'bminv_ODONNTAX',\n",
        " 'bminv_ODONPIND',\n",
        " 'bminv_ODONPTAX',\n",
        " 'bminv_OLLENTAX',\n",
        " 'bminv_OLLEPIND',\n",
        " 'bminv_OLLEPTAX',\n",
        " 'bminv_ORTHCHIRPIND',\n",
        " 'bminv_ORTHNTAX',\n",
        " 'bminv_ORTHPIND',\n",
        " 'bminv_ORTHPTAX',\n",
        " 'bminv_PLECNTAX',\n",
        " 'bminv_PLECPIND',\n",
        " 'bminv_PLECPTAX',\n",
        " 'bminv_PREDNTAX',\n",
        " 'bminv_PREDPIND',\n",
        " 'bminv_PREDPTAX',\n",
        " 'bminv_SCRPNTAX',\n",
        " 'bminv_SCRPPIND',\n",
        " 'bminv_SCRPPTAX',\n",
        " 'bminv_SHRDNTAX',\n",
        " 'bminv_SHRDPIND',\n",
        " 'bminv_SHRDPTAX',\n",
        " 'bminv_SPWLNTAX',\n",
        " 'bminv_SPWLPIND',\n",
        " 'bminv_SPWLPTAX',\n",
        " 'bminv_STOLNTAX',\n",
        " 'bminv_STOLPIND',\n",
        " 'bminv_STOLPTAX',\n",
        " 'bminv_SWIMNTAX',\n",
        " 'bminv_SWIMPIND',\n",
        " 'bminv_SWIMPTAX',\n",
        " 'bminv_TANYNTAX',\n",
        " 'bminv_TANYPIND',\n",
        " 'bminv_TANYPTAX',\n",
        " 'bminv_TL01NTAX',\n",
        " 'bminv_TL01PIND',\n",
        " 'bminv_TL01PTAX',\n",
        " 'bminv_TL23NTAX',\n",
        " 'bminv_TL23PIND',\n",
        " 'bminv_TL23PTAX',\n",
        " 'bminv_TL45NTAX',\n",
        " 'bminv_TL45PIND',\n",
        " 'bminv_TL45PTAX',\n",
        " 'bminv_TL67NTAX',\n",
        " 'bminv_TL67PIND',\n",
        " 'bminv_TL67PTAX',\n",
        " 'bminv_TOLRNTAX',\n",
        " 'bminv_TOLRPIND',\n",
        " 'bminv_TOLRPTAX',\n",
        " 'bminv_TOTLNIND',\n",
        " 'bminv_TOTLNTAX',\n",
        " 'bminv_TRICNTAX',\n",
        " 'bminv_TRICPIND',\n",
        " 'bminv_TRICPTAX',\n",
        " 'bminv_TUBINAIDNTAX',\n",
        " 'bminv_TUBINAIDPIND',\n",
        " 'bminv_TUBINAIDPTAX',\n",
        " 'bminv_WTD_TV', \n",
        " 'incidence_rate_per_100k', \n",
        " '5yr_trend'\n",
        " ]"
      ],
      "metadata": {
        "id": "yyufCzCGc_tS"
      },
      "execution_count": 9,
      "outputs": []
    },
    {
      "cell_type": "code",
      "source": [
        "df_CDR = df.drop(columns=non_CDR_columns).copy()"
      ],
      "metadata": {
        "id": "_D4UiUsga_DX"
      },
      "execution_count": 10,
      "outputs": []
    },
    {
      "cell_type": "code",
      "source": [
        "df_CDR.dropna(inplace=True)"
      ],
      "metadata": {
        "id": "yLy9iuX8a6RA"
      },
      "execution_count": 12,
      "outputs": []
    },
    {
      "cell_type": "code",
      "source": [
        "df_CDR['recent_trend_cat'].value_counts()"
      ],
      "metadata": {
        "colab": {
          "base_uri": "https://localhost:8080/"
        },
        "id": "QPjeUNLC2Xra",
        "outputId": "000b57ca-ec0d-44ac-a69f-f9f8d39322f8"
      },
      "execution_count": 33,
      "outputs": [
        {
          "output_type": "execute_result",
          "data": {
            "text/plain": [
              "stable     1145\n",
              "rising      506\n",
              "falling      38\n",
              "Name: recent_trend_cat, dtype: int64"
            ]
          },
          "metadata": {},
          "execution_count": 33
        }
      ]
    },
    {
      "cell_type": "code",
      "source": [
        "df_duplicates = df_CDR[df_CDR['recent_trend_cat'] == 'rising'].copy()\n",
        "df_CDR = pd.concat([df_CDR, df_duplicates])\n",
        "y = df_CDR['recent_trend_cat'].copy()"
      ],
      "metadata": {
        "id": "TtFxqY_acHam"
      },
      "execution_count": 30,
      "outputs": []
    },
    {
      "cell_type": "markdown",
      "source": [
        "## Baseline to beat"
      ],
      "metadata": {
        "id": "xwEADxsQgW-2"
      }
    },
    {
      "cell_type": "code",
      "source": [
        "y.value_counts(normalize=True).max()"
      ],
      "metadata": {
        "colab": {
          "base_uri": "https://localhost:8080/"
        },
        "id": "Hpmo1gJy-cWB",
        "outputId": "f895c43d-bd2d-40ed-b063-e25a05685855"
      },
      "execution_count": 35,
      "outputs": [
        {
          "output_type": "execute_result",
          "data": {
            "text/plain": [
              "0.6779159265837774"
            ]
          },
          "metadata": {},
          "execution_count": 35
        }
      ]
    },
    {
      "cell_type": "code",
      "source": [
        "X = df_CDR.select_dtypes(exclude=['object'])\n"
      ],
      "metadata": {
        "id": "uaD4HYtnjR5J"
      },
      "execution_count": 36,
      "outputs": []
    },
    {
      "cell_type": "code",
      "source": [
        "oh = OneHotEncoder(\n",
        "    sparse=False,\n",
        "    dtype=int,\n",
        "    categories=\"auto\"\n",
        ")\n",
        "\n",
        "y = oh.fit_transform(y.values.reshape(-1, 1))"
      ],
      "metadata": {
        "id": "tHHqKTZh2BgL"
      },
      "execution_count": 37,
      "outputs": []
    },
    {
      "cell_type": "code",
      "source": [
        "sc = StandardScaler()\n",
        "X_sc = sc.fit_transform(X)\n",
        "\n",
        "X_train, X_test, y_train, y_test = train_test_split(X_sc, y, stratify= y, test_size=0.2, random_state=4)\n",
        "\n",
        "model = Sequential()\n",
        "\n",
        "model.add(Dense(1000, activation='relu'))\n",
        "model.add(Dense(500, activation='relu'))\n",
        "model.add(Dense(256, activation='relu'))\n",
        "model.add(Dense(128, activation='relu'))\n",
        "model.add(Dense(128, activation='relu'))\n",
        "model.add(Dense(128, activation='relu'))\n",
        "model.add(Dense(64, activation='relu'))\n",
        "model.add(Dense(3, activation='softmax'))\n",
        "\n",
        "model.compile(loss='categorical_crossentropy', optimizer='adam', metrics=['mae', 'acc'])\n",
        "early_stop = EarlyStopping(monitor='val_loss', min_delta=0.6, patience=5, verbose=1, mode='auto')\n",
        "\n",
        "history = model.fit(\n",
        "    X_train,\n",
        "    y_train,\n",
        "    validation_data=(X_test, y_test),\n",
        "    epochs=40,\n",
        "    batch_size=64,\n",
        "\n",
        ")"
      ],
      "metadata": {
        "colab": {
          "base_uri": "https://localhost:8080/"
        },
        "outputId": "e08d731f-100a-462b-d878-aedb2f6ee0d4",
        "id": "s8n4zjDEhqww"
      },
      "execution_count": 42,
      "outputs": [
        {
          "output_type": "stream",
          "name": "stdout",
          "text": [
            "Epoch 1/40\n",
            "22/22 [==============================] - 3s 79ms/step - loss: 0.7941 - mae: 0.3229 - acc: 0.6610 - val_loss: 0.7375 - val_mae: 0.3171 - val_acc: 0.6775\n",
            "Epoch 2/40\n",
            "22/22 [==============================] - 1s 68ms/step - loss: 0.6897 - mae: 0.2904 - acc: 0.6751 - val_loss: 0.7590 - val_mae: 0.2630 - val_acc: 0.6775\n",
            "Epoch 3/40\n",
            "22/22 [==============================] - 2s 99ms/step - loss: 0.6739 - mae: 0.2783 - acc: 0.6810 - val_loss: 0.7031 - val_mae: 0.2839 - val_acc: 0.6864\n",
            "Epoch 4/40\n",
            "22/22 [==============================] - 2s 112ms/step - loss: 0.6435 - mae: 0.2728 - acc: 0.6943 - val_loss: 0.7296 - val_mae: 0.2665 - val_acc: 0.6893\n",
            "Epoch 5/40\n",
            "22/22 [==============================] - 2s 68ms/step - loss: 0.6334 - mae: 0.2681 - acc: 0.6958 - val_loss: 0.7207 - val_mae: 0.2880 - val_acc: 0.7130\n",
            "Epoch 6/40\n",
            "22/22 [==============================] - 1s 67ms/step - loss: 0.6290 - mae: 0.2658 - acc: 0.7076 - val_loss: 0.7113 - val_mae: 0.2679 - val_acc: 0.7041\n",
            "Epoch 7/40\n",
            "22/22 [==============================] - 1s 67ms/step - loss: 0.6077 - mae: 0.2500 - acc: 0.7128 - val_loss: 0.7161 - val_mae: 0.2644 - val_acc: 0.7101\n",
            "Epoch 8/40\n",
            "22/22 [==============================] - 1s 68ms/step - loss: 0.5972 - mae: 0.2487 - acc: 0.7143 - val_loss: 0.7128 - val_mae: 0.2766 - val_acc: 0.7160\n",
            "Epoch 9/40\n",
            "22/22 [==============================] - 1s 67ms/step - loss: 0.5824 - mae: 0.2471 - acc: 0.7246 - val_loss: 0.7285 - val_mae: 0.2610 - val_acc: 0.6953\n",
            "Epoch 10/40\n",
            "22/22 [==============================] - 1s 68ms/step - loss: 0.5710 - mae: 0.2422 - acc: 0.7321 - val_loss: 0.7255 - val_mae: 0.2672 - val_acc: 0.7012\n",
            "Epoch 11/40\n",
            "22/22 [==============================] - 1s 68ms/step - loss: 0.5613 - mae: 0.2301 - acc: 0.7350 - val_loss: 0.7233 - val_mae: 0.2587 - val_acc: 0.7012\n",
            "Epoch 12/40\n",
            "22/22 [==============================] - 1s 67ms/step - loss: 0.5361 - mae: 0.2260 - acc: 0.7291 - val_loss: 0.7969 - val_mae: 0.2588 - val_acc: 0.7101\n",
            "Epoch 13/40\n",
            "22/22 [==============================] - 2s 68ms/step - loss: 0.5268 - mae: 0.2189 - acc: 0.7439 - val_loss: 0.7740 - val_mae: 0.2447 - val_acc: 0.7071\n",
            "Epoch 14/40\n",
            "22/22 [==============================] - 1s 68ms/step - loss: 0.5093 - mae: 0.2125 - acc: 0.7587 - val_loss: 0.8079 - val_mae: 0.2437 - val_acc: 0.7130\n",
            "Epoch 15/40\n",
            "22/22 [==============================] - 1s 67ms/step - loss: 0.4979 - mae: 0.2061 - acc: 0.7654 - val_loss: 0.7969 - val_mae: 0.2642 - val_acc: 0.6982\n",
            "Epoch 16/40\n",
            "22/22 [==============================] - 1s 68ms/step - loss: 0.4731 - mae: 0.2011 - acc: 0.7713 - val_loss: 0.8840 - val_mae: 0.2161 - val_acc: 0.7544\n",
            "Epoch 17/40\n",
            "22/22 [==============================] - 1s 68ms/step - loss: 0.4750 - mae: 0.1941 - acc: 0.7802 - val_loss: 0.8660 - val_mae: 0.2255 - val_acc: 0.7071\n",
            "Epoch 18/40\n",
            "22/22 [==============================] - 1s 68ms/step - loss: 0.4817 - mae: 0.2000 - acc: 0.7750 - val_loss: 0.8720 - val_mae: 0.2197 - val_acc: 0.7160\n",
            "Epoch 19/40\n",
            "22/22 [==============================] - 1s 68ms/step - loss: 0.4370 - mae: 0.1819 - acc: 0.7802 - val_loss: 0.8875 - val_mae: 0.2131 - val_acc: 0.7308\n",
            "Epoch 20/40\n",
            "22/22 [==============================] - 1s 68ms/step - loss: 0.4172 - mae: 0.1756 - acc: 0.8031 - val_loss: 0.8935 - val_mae: 0.2186 - val_acc: 0.7189\n",
            "Epoch 21/40\n",
            "22/22 [==============================] - 1s 67ms/step - loss: 0.3730 - mae: 0.1553 - acc: 0.8194 - val_loss: 1.0097 - val_mae: 0.2315 - val_acc: 0.7160\n",
            "Epoch 22/40\n",
            "22/22 [==============================] - 1s 67ms/step - loss: 0.3677 - mae: 0.1515 - acc: 0.8113 - val_loss: 0.8612 - val_mae: 0.1938 - val_acc: 0.7308\n",
            "Epoch 23/40\n",
            "22/22 [==============================] - 1s 68ms/step - loss: 0.3328 - mae: 0.1382 - acc: 0.8446 - val_loss: 0.9904 - val_mae: 0.1925 - val_acc: 0.7663\n",
            "Epoch 24/40\n",
            "22/22 [==============================] - 1s 68ms/step - loss: 0.3743 - mae: 0.1397 - acc: 0.8379 - val_loss: 0.8250 - val_mae: 0.1910 - val_acc: 0.7692\n",
            "Epoch 25/40\n",
            "22/22 [==============================] - 2s 82ms/step - loss: 0.3962 - mae: 0.1566 - acc: 0.8431 - val_loss: 0.7098 - val_mae: 0.2005 - val_acc: 0.7574\n",
            "Epoch 26/40\n",
            "22/22 [==============================] - 2s 110ms/step - loss: 0.3091 - mae: 0.1240 - acc: 0.8675 - val_loss: 0.7617 - val_mae: 0.2003 - val_acc: 0.7633\n",
            "Epoch 27/40\n",
            "22/22 [==============================] - 2s 86ms/step - loss: 0.2494 - mae: 0.1025 - acc: 0.8890 - val_loss: 0.7697 - val_mae: 0.1693 - val_acc: 0.7988\n",
            "Epoch 28/40\n",
            "22/22 [==============================] - 1s 67ms/step - loss: 0.2235 - mae: 0.0942 - acc: 0.9090 - val_loss: 0.9897 - val_mae: 0.1737 - val_acc: 0.7751\n",
            "Epoch 29/40\n",
            "22/22 [==============================] - 1s 67ms/step - loss: 0.2871 - mae: 0.1110 - acc: 0.8742 - val_loss: 0.7714 - val_mae: 0.1662 - val_acc: 0.7840\n",
            "Epoch 30/40\n",
            "22/22 [==============================] - 1s 67ms/step - loss: 0.2404 - mae: 0.1067 - acc: 0.8882 - val_loss: 0.8953 - val_mae: 0.1600 - val_acc: 0.7870\n",
            "Epoch 31/40\n",
            "22/22 [==============================] - 1s 69ms/step - loss: 0.2034 - mae: 0.0829 - acc: 0.9149 - val_loss: 0.9545 - val_mae: 0.1539 - val_acc: 0.7781\n",
            "Epoch 32/40\n",
            "22/22 [==============================] - 1s 68ms/step - loss: 0.2456 - mae: 0.0981 - acc: 0.8986 - val_loss: 0.7807 - val_mae: 0.1663 - val_acc: 0.7899\n",
            "Epoch 33/40\n",
            "22/22 [==============================] - 1s 67ms/step - loss: 0.1621 - mae: 0.0653 - acc: 0.9341 - val_loss: 1.0451 - val_mae: 0.1537 - val_acc: 0.7988\n",
            "Epoch 34/40\n",
            "22/22 [==============================] - 1s 68ms/step - loss: 0.1718 - mae: 0.0675 - acc: 0.9245 - val_loss: 1.1358 - val_mae: 0.1395 - val_acc: 0.8225\n",
            "Epoch 35/40\n",
            "22/22 [==============================] - 1s 68ms/step - loss: 0.1773 - mae: 0.0591 - acc: 0.9378 - val_loss: 1.0531 - val_mae: 0.1662 - val_acc: 0.7959\n",
            "Epoch 36/40\n",
            "22/22 [==============================] - 1s 67ms/step - loss: 0.1409 - mae: 0.0588 - acc: 0.9408 - val_loss: 1.0549 - val_mae: 0.1467 - val_acc: 0.7988\n",
            "Epoch 37/40\n",
            "22/22 [==============================] - 2s 69ms/step - loss: 0.1392 - mae: 0.0554 - acc: 0.9445 - val_loss: 0.9049 - val_mae: 0.1448 - val_acc: 0.8047\n",
            "Epoch 38/40\n",
            "22/22 [==============================] - 1s 68ms/step - loss: 0.1998 - mae: 0.0692 - acc: 0.9275 - val_loss: 0.7551 - val_mae: 0.1648 - val_acc: 0.7988\n",
            "Epoch 39/40\n",
            "22/22 [==============================] - 2s 70ms/step - loss: 0.1700 - mae: 0.0690 - acc: 0.9312 - val_loss: 1.0792 - val_mae: 0.1461 - val_acc: 0.7988\n",
            "Epoch 40/40\n",
            "22/22 [==============================] - 1s 68ms/step - loss: 0.1245 - mae: 0.0479 - acc: 0.9504 - val_loss: 1.2617 - val_mae: 0.1442 - val_acc: 0.7870\n"
          ]
        }
      ]
    },
    {
      "cell_type": "code",
      "source": [
        "preds = model.predict(X_sc)"
      ],
      "metadata": {
        "colab": {
          "base_uri": "https://localhost:8080/"
        },
        "id": "fPE42SUyGsPl",
        "outputId": "3e7e44e3-f620-4118-9358-eb98e7ffb93f"
      },
      "execution_count": 43,
      "outputs": [
        {
          "output_type": "stream",
          "name": "stdout",
          "text": [
            "53/53 [==============================] - 1s 16ms/step\n"
          ]
        }
      ]
    },
    {
      "cell_type": "code",
      "source": [
        "preds_classes =np.argmax(preds,axis=1)"
      ],
      "metadata": {
        "id": "ibDS7rgHGPG1"
      },
      "execution_count": 44,
      "outputs": []
    },
    {
      "cell_type": "code",
      "source": [
        "df_CDR['predictions'] = preds_classes"
      ],
      "metadata": {
        "id": "_vf_QjmBQnFY"
      },
      "execution_count": 46,
      "outputs": []
    },
    {
      "cell_type": "code",
      "source": [
        "df_map_matrix = df_CDR[['fips', 'recent_trend_cat', 'predictions']]"
      ],
      "metadata": {
        "id": "OrxZKYGRSALT"
      },
      "execution_count": 52,
      "outputs": []
    },
    {
      "cell_type": "code",
      "source": [
        "df_map_matrix.to_csv('/content/drive/MyDrive/ga_data/map_matrix.csv')"
      ],
      "metadata": {
        "id": "kWM3uRFMSTz2"
      },
      "execution_count": 56,
      "outputs": []
    },
    {
      "cell_type": "code",
      "source": [
        "np.unique(preds_classes, return_counts=True)"
      ],
      "metadata": {
        "colab": {
          "base_uri": "https://localhost:8080/"
        },
        "id": "gkDNP6OaHJxr",
        "outputId": "a9bf4993-74c7-40a0-ce2e-a99362e204de"
      },
      "execution_count": 47,
      "outputs": [
        {
          "output_type": "execute_result",
          "data": {
            "text/plain": [
              "(array([0, 1, 2]), array([  33,  550, 1106]))"
            ]
          },
          "metadata": {},
          "execution_count": 47
        }
      ]
    },
    {
      "cell_type": "code",
      "source": [
        "with open('/content/drive/MyDrive/ga_data/cdr_nih_20221121.pkl', 'wb') as pickle_out:\n",
        "    pickle_out = pickle.dump(model, pickle_out)"
      ],
      "metadata": {
        "id": "-kBnzxgSWjOV"
      },
      "execution_count": 31,
      "outputs": []
    },
    {
      "cell_type": "code",
      "source": [
        "with open('/content/drive/MyDrive/ga_data/cdr_nih_20221121.pkl', 'rb') as pickle_out:\n",
        "    model = pickle.load(pickle_out)"
      ],
      "metadata": {
        "id": "nHk_C8qeq4XG"
      },
      "execution_count": null,
      "outputs": []
    }
  ]
}