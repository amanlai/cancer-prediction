{
 "cells": [
  {
   "cell_type": "markdown",
   "id": "bbbfc1eb",
   "metadata": {},
   "source": [
    "## Imports and read data"
   ]
  },
  {
   "cell_type": "code",
   "execution_count": 29,
   "id": "50363fb5",
   "metadata": {},
   "outputs": [],
   "source": [
    "import numpy as np\n",
    "import pandas as pd\n",
    "\n",
    "import matplotlib.pyplot as plt\n",
    "import seaborn as sns\n",
    "\n",
    "from sklearn.model_selection import train_test_split, GridSearchCV\n",
    "from sklearn.ensemble import RandomForestClassifier\n",
    "\n",
    "from sklearn.cluster import KMeans\n",
    "from sklearn.metrics import silhouette_score, plot_confusion_matrix"
   ]
  },
  {
   "cell_type": "code",
   "execution_count": 30,
   "id": "baa942e2",
   "metadata": {},
   "outputs": [],
   "source": [
    "everything = pd.read_csv('data/cleaned/epa_nih_county_join_20221111.csv')"
   ]
  },
  {
   "cell_type": "markdown",
   "id": "d6beacb7",
   "metadata": {},
   "source": [
    "## Feature engineer target variable"
   ]
  },
  {
   "cell_type": "code",
   "execution_count": 31,
   "id": "fda478eb",
   "metadata": {},
   "outputs": [],
   "source": [
    "everything['is_rising'] = 0\n",
    "everything.loc[everything['Recent Trend'] == 'rising', 'is_rising'] = 1"
   ]
  },
  {
   "cell_type": "code",
   "execution_count": 32,
   "id": "b353da55",
   "metadata": {},
   "outputs": [
    {
     "data": {
      "text/plain": [
       "0    22174\n",
       "1     6182\n",
       "Name: is_rising, dtype: int64"
      ]
     },
     "execution_count": 32,
     "metadata": {},
     "output_type": "execute_result"
    }
   ],
   "source": [
    "everything['is_rising'].value_counts()"
   ]
  },
  {
   "cell_type": "code",
   "execution_count": 7,
   "id": "55ad733c",
   "metadata": {},
   "outputs": [
    {
     "data": {
      "text/plain": [
       "stable                18225\n",
       "rising                 6182\n",
       "falling                2703\n",
       "*                       743\n",
       "data not available      503\n",
       "Name: Recent Trend, dtype: int64"
      ]
     },
     "execution_count": 7,
     "metadata": {},
     "output_type": "execute_result"
    }
   ],
   "source": [
    "everything['Recent Trend'].value_counts()"
   ]
  },
  {
   "cell_type": "code",
   "execution_count": 8,
   "id": "41f5f861",
   "metadata": {},
   "outputs": [
    {
     "data": {
      "text/html": [
       "<div>\n",
       "<style scoped>\n",
       "    .dataframe tbody tr th:only-of-type {\n",
       "        vertical-align: middle;\n",
       "    }\n",
       "\n",
       "    .dataframe tbody tr th {\n",
       "        vertical-align: top;\n",
       "    }\n",
       "\n",
       "    .dataframe thead th {\n",
       "        text-align: right;\n",
       "    }\n",
       "</style>\n",
       "<table border=\"1\" class=\"dataframe\">\n",
       "  <thead>\n",
       "    <tr style=\"text-align: right;\">\n",
       "      <th></th>\n",
       "      <th>PARENT_ADDRESS</th>\n",
       "      <th>NUMBER_ID_CODE</th>\n",
       "      <th>Latitude</th>\n",
       "      <th>CHEMICAL_NAME</th>\n",
       "      <th>PARENT_STATE</th>\n",
       "      <th>SITE_ADDRESS</th>\n",
       "      <th>CHEMICAL_ID_NUMBER</th>\n",
       "      <th>FAC_DET_REP</th>\n",
       "      <th>Public_CDR_SUBMISSIONS_SITE_NAME</th>\n",
       "      <th>SITE_ZIP</th>\n",
       "      <th>...</th>\n",
       "      <th>Upper 95% Confidence Interval</th>\n",
       "      <th>CI*Rank([rank note])</th>\n",
       "      <th>Lower CI (CI*Rank)</th>\n",
       "      <th>Upper CI (CI*Rank)</th>\n",
       "      <th>Average Annual Count</th>\n",
       "      <th>Recent Trend</th>\n",
       "      <th>Recent 5-Year Trend ([trend note]) in Incidence Rates</th>\n",
       "      <th>Lower 95% Confidence Interval.1</th>\n",
       "      <th>Upper 95% Confidence Interval.1</th>\n",
       "      <th>is_rising</th>\n",
       "    </tr>\n",
       "  </thead>\n",
       "  <tbody>\n",
       "    <tr>\n",
       "      <th>0</th>\n",
       "      <td>2020 Dow Center</td>\n",
       "      <td>CASRN</td>\n",
       "      <td>30.322311</td>\n",
       "      <td>Ethene, Chloro-</td>\n",
       "      <td>MI</td>\n",
       "      <td>21145 Highway 1</td>\n",
       "      <td>000075-01-4</td>\n",
       "      <td>http://iaspub.epa.gov/enviro/fii_query_dtl.dis...</td>\n",
       "      <td>The Dow Chemical Company</td>\n",
       "      <td>70764</td>\n",
       "      <td>...</td>\n",
       "      <td>138.6</td>\n",
       "      <td>N/A</td>\n",
       "      <td>2</td>\n",
       "      <td>59</td>\n",
       "      <td>24</td>\n",
       "      <td>stable</td>\n",
       "      <td>0.4</td>\n",
       "      <td>-1.1</td>\n",
       "      <td>1.9</td>\n",
       "      <td>0</td>\n",
       "    </tr>\n",
       "    <tr>\n",
       "      <th>1</th>\n",
       "      <td>2020 Dow Center</td>\n",
       "      <td>CASRN</td>\n",
       "      <td>30.322311</td>\n",
       "      <td>1,2-Propanediol</td>\n",
       "      <td>MI</td>\n",
       "      <td>21145 Highway 1</td>\n",
       "      <td>000057-55-6</td>\n",
       "      <td>http://iaspub.epa.gov/enviro/fii_query_dtl.dis...</td>\n",
       "      <td>The Dow Chemical Company</td>\n",
       "      <td>70764</td>\n",
       "      <td>...</td>\n",
       "      <td>138.6</td>\n",
       "      <td>N/A</td>\n",
       "      <td>2</td>\n",
       "      <td>59</td>\n",
       "      <td>24</td>\n",
       "      <td>stable</td>\n",
       "      <td>0.4</td>\n",
       "      <td>-1.1</td>\n",
       "      <td>1.9</td>\n",
       "      <td>0</td>\n",
       "    </tr>\n",
       "    <tr>\n",
       "      <th>2</th>\n",
       "      <td>2020 Dow Center</td>\n",
       "      <td>CASRN</td>\n",
       "      <td>30.322311</td>\n",
       "      <td>Ethane</td>\n",
       "      <td>MI</td>\n",
       "      <td>21145 Highway 1</td>\n",
       "      <td>000074-84-0</td>\n",
       "      <td>http://iaspub.epa.gov/enviro/fii_query_dtl.dis...</td>\n",
       "      <td>The Dow Chemical Company</td>\n",
       "      <td>70764</td>\n",
       "      <td>...</td>\n",
       "      <td>138.6</td>\n",
       "      <td>N/A</td>\n",
       "      <td>2</td>\n",
       "      <td>59</td>\n",
       "      <td>24</td>\n",
       "      <td>stable</td>\n",
       "      <td>0.4</td>\n",
       "      <td>-1.1</td>\n",
       "      <td>1.9</td>\n",
       "      <td>0</td>\n",
       "    </tr>\n",
       "    <tr>\n",
       "      <th>3</th>\n",
       "      <td>2020 Dow Center</td>\n",
       "      <td>CASRN</td>\n",
       "      <td>30.322311</td>\n",
       "      <td>Ethene</td>\n",
       "      <td>MI</td>\n",
       "      <td>21145 Highway 1</td>\n",
       "      <td>000074-85-1</td>\n",
       "      <td>http://iaspub.epa.gov/enviro/fii_query_dtl.dis...</td>\n",
       "      <td>The Dow Chemical Company</td>\n",
       "      <td>70764</td>\n",
       "      <td>...</td>\n",
       "      <td>138.6</td>\n",
       "      <td>N/A</td>\n",
       "      <td>2</td>\n",
       "      <td>59</td>\n",
       "      <td>24</td>\n",
       "      <td>stable</td>\n",
       "      <td>0.4</td>\n",
       "      <td>-1.1</td>\n",
       "      <td>1.9</td>\n",
       "      <td>0</td>\n",
       "    </tr>\n",
       "    <tr>\n",
       "      <th>4</th>\n",
       "      <td>2020 Dow Center</td>\n",
       "      <td>CASRN</td>\n",
       "      <td>30.322311</td>\n",
       "      <td>Methane, chloro-</td>\n",
       "      <td>MI</td>\n",
       "      <td>21145 Highway 1</td>\n",
       "      <td>000074-87-3</td>\n",
       "      <td>http://iaspub.epa.gov/enviro/fii_query_dtl.dis...</td>\n",
       "      <td>The Dow Chemical Company</td>\n",
       "      <td>70764</td>\n",
       "      <td>...</td>\n",
       "      <td>138.6</td>\n",
       "      <td>N/A</td>\n",
       "      <td>2</td>\n",
       "      <td>59</td>\n",
       "      <td>24</td>\n",
       "      <td>stable</td>\n",
       "      <td>0.4</td>\n",
       "      <td>-1.1</td>\n",
       "      <td>1.9</td>\n",
       "      <td>0</td>\n",
       "    </tr>\n",
       "  </tbody>\n",
       "</table>\n",
       "<p>5 rows × 35 columns</p>\n",
       "</div>"
      ],
      "text/plain": [
       "    PARENT_ADDRESS NUMBER_ID_CODE   Latitude     CHEMICAL_NAME PARENT_STATE  \\\n",
       "0  2020 Dow Center          CASRN  30.322311   Ethene, Chloro-           MI   \n",
       "1  2020 Dow Center          CASRN  30.322311   1,2-Propanediol           MI   \n",
       "2  2020 Dow Center          CASRN  30.322311            Ethane           MI   \n",
       "3  2020 Dow Center          CASRN  30.322311            Ethene           MI   \n",
       "4  2020 Dow Center          CASRN  30.322311  Methane, chloro-           MI   \n",
       "\n",
       "      SITE_ADDRESS CHEMICAL_ID_NUMBER  \\\n",
       "0  21145 Highway 1        000075-01-4   \n",
       "1  21145 Highway 1        000057-55-6   \n",
       "2  21145 Highway 1        000074-84-0   \n",
       "3  21145 Highway 1        000074-85-1   \n",
       "4  21145 Highway 1        000074-87-3   \n",
       "\n",
       "                                         FAC_DET_REP  \\\n",
       "0  http://iaspub.epa.gov/enviro/fii_query_dtl.dis...   \n",
       "1  http://iaspub.epa.gov/enviro/fii_query_dtl.dis...   \n",
       "2  http://iaspub.epa.gov/enviro/fii_query_dtl.dis...   \n",
       "3  http://iaspub.epa.gov/enviro/fii_query_dtl.dis...   \n",
       "4  http://iaspub.epa.gov/enviro/fii_query_dtl.dis...   \n",
       "\n",
       "  Public_CDR_SUBMISSIONS_SITE_NAME SITE_ZIP  ...  \\\n",
       "0         The Dow Chemical Company    70764  ...   \n",
       "1         The Dow Chemical Company    70764  ...   \n",
       "2         The Dow Chemical Company    70764  ...   \n",
       "3         The Dow Chemical Company    70764  ...   \n",
       "4         The Dow Chemical Company    70764  ...   \n",
       "\n",
       "  Upper 95% Confidence Interval CI*Rank([rank note]) Lower CI (CI*Rank)  \\\n",
       "0                         138.6                 N/A                   2   \n",
       "1                         138.6                 N/A                   2   \n",
       "2                         138.6                 N/A                   2   \n",
       "3                         138.6                 N/A                   2   \n",
       "4                         138.6                 N/A                   2   \n",
       "\n",
       "  Upper CI (CI*Rank)  Average Annual Count Recent Trend  \\\n",
       "0                 59                    24       stable   \n",
       "1                 59                    24       stable   \n",
       "2                 59                    24       stable   \n",
       "3                 59                    24       stable   \n",
       "4                 59                    24       stable   \n",
       "\n",
       "  Recent 5-Year Trend ([trend note]) in Incidence Rates  \\\n",
       "0                                                0.4      \n",
       "1                                                0.4      \n",
       "2                                                0.4      \n",
       "3                                                0.4      \n",
       "4                                                0.4      \n",
       "\n",
       "   Lower 95% Confidence Interval.1  Upper 95% Confidence Interval.1 is_rising  \n",
       "0                             -1.1                              1.9         0  \n",
       "1                             -1.1                              1.9         0  \n",
       "2                             -1.1                              1.9         0  \n",
       "3                             -1.1                              1.9         0  \n",
       "4                             -1.1                              1.9         0  \n",
       "\n",
       "[5 rows x 35 columns]"
      ]
     },
     "execution_count": 8,
     "metadata": {},
     "output_type": "execute_result"
    }
   ],
   "source": [
    "everything.head()"
   ]
  },
  {
   "cell_type": "markdown",
   "id": "9cc39743",
   "metadata": {},
   "source": [
    "## Model 1: All counties"
   ]
  },
  {
   "cell_type": "code",
   "execution_count": 33,
   "id": "196c0a11",
   "metadata": {},
   "outputs": [],
   "source": [
    "rfdf = everything[['CHEMICAL_NAME', 'CHEMICAL_ID_NUMBER', 'County-State', 'SITE_CITY', \n",
    "                   'Public_CDR_SUBMISSIONS_SITE_NAME', 'is_rising']].copy()"
   ]
  },
  {
   "cell_type": "markdown",
   "id": "fdcc7efc",
   "metadata": {},
   "source": [
    "## Model 1: Preprocessing"
   ]
  },
  {
   "cell_type": "code",
   "execution_count": 34,
   "id": "1efa0734",
   "metadata": {},
   "outputs": [],
   "source": [
    "rfdf_dummies = pd.get_dummies(rfdf, drop_first=True)"
   ]
  },
  {
   "cell_type": "code",
   "execution_count": 35,
   "id": "20d952b8",
   "metadata": {},
   "outputs": [],
   "source": [
    "X = rfdf_dummies.drop(columns=['is_rising'])\n",
    "y = rfdf_dummies['is_rising']\n",
    "\n",
    "X_train, X_test, y_train, y_test = train_test_split(X, y, stratify=y, test_size=0.1)"
   ]
  },
  {
   "cell_type": "code",
   "execution_count": 23,
   "id": "77e1e013",
   "metadata": {},
   "outputs": [
    {
     "data": {
      "text/plain": [
       "0.7819861757652702"
      ]
     },
     "execution_count": 23,
     "metadata": {},
     "output_type": "execute_result"
    }
   ],
   "source": [
    "y.value_counts(normalize=True).max()"
   ]
  },
  {
   "cell_type": "markdown",
   "id": "1a5b7791",
   "metadata": {},
   "source": [
    "## Model 1: Random Forest"
   ]
  },
  {
   "cell_type": "code",
   "execution_count": 36,
   "id": "986ca3e8",
   "metadata": {},
   "outputs": [
    {
     "name": "stdout",
     "output_type": "stream",
     "text": [
      "0.7819749216300941\n"
     ]
    }
   ],
   "source": [
    "rf = RandomForestClassifier(n_jobs=-1)\n",
    "\n",
    "rf_params = {\n",
    "    'n_estimators': [100, 300],\n",
    "    'max_depth': [3, 8],\n",
    "    'n_jobs' : [4]\n",
    "}\n",
    "\n",
    "gs = GridSearchCV(rf, param_grid=rf_params, cv=5, n_jobs=-1)\n",
    "gs.fit(X_train, y_train)\n",
    "print(gs.best_score_)"
   ]
  },
  {
   "cell_type": "code",
   "execution_count": 10,
   "id": "b7658051",
   "metadata": {},
   "outputs": [
    {
     "data": {
      "text/plain": [
       "{'max_depth': 3, 'n_estimators': 100, 'n_jobs': 4}"
      ]
     },
     "execution_count": 10,
     "metadata": {},
     "output_type": "execute_result"
    }
   ],
   "source": [
    "gs.best_params_"
   ]
  },
  {
   "cell_type": "code",
   "execution_count": 21,
   "id": "4deaf44d",
   "metadata": {},
   "outputs": [
    {
     "data": {
      "text/plain": [
       "0.7820874471086037"
      ]
     },
     "execution_count": 21,
     "metadata": {},
     "output_type": "execute_result"
    }
   ],
   "source": [
    "gs.score(X_test, y_test)"
   ]
  },
  {
   "cell_type": "code",
   "execution_count": 41,
   "id": "4477b723",
   "metadata": {},
   "outputs": [
    {
     "name": "stderr",
     "output_type": "stream",
     "text": [
      "/Users/michaelrenehan/opt/anaconda3/lib/python3.9/site-packages/sklearn/utils/deprecation.py:87: FutureWarning: Function plot_confusion_matrix is deprecated; Function `plot_confusion_matrix` is deprecated in 1.0 and will be removed in 1.2. Use one of the class methods: ConfusionMatrixDisplay.from_predictions or ConfusionMatrixDisplay.from_estimator.\n",
      "  warnings.warn(msg, category=FutureWarning)\n"
     ]
    },
    {
     "data": {
      "text/plain": [
       "Text(0.0, 1.0, 'Random Forest on EPA CDR Data')"
      ]
     },
     "execution_count": 41,
     "metadata": {},
     "output_type": "execute_result"
    },
    {
     "data": {
      "image/png": "[encoded data removed]",
      "text/plain": [
       "<Figure size 432x288 with 2 Axes>"
      ]
     },
     "metadata": {
      "needs_background": "light"
     },
     "output_type": "display_data"
    }
   ],
   "source": [
    "plot_confusion_matrix(gs.best_estimator_, X_test, y_test)\n",
    "plt.title(\"Random Forest on EPA CDR Data\", loc=\"left\", size =15)"
   ]
  },
  {
   "cell_type": "code",
   "execution_count": 11,
   "id": "223517e7",
   "metadata": {},
   "outputs": [],
   "source": [
    "rfdf.to_csv('data/cleaned/chemicals_small_cut_20221113.csv', index=False)"
   ]
  },
  {
   "cell_type": "markdown",
   "id": "f8c345d0",
   "metadata": {},
   "source": [
    "## Model 2: Exclude Harris County, TX"
   ]
  },
  {
   "cell_type": "code",
   "execution_count": 12,
   "id": "76e385f7",
   "metadata": {},
   "outputs": [],
   "source": [
    "chem_sum = rfdf.groupby('CHEMICAL_NAME').sum()"
   ]
  },
  {
   "cell_type": "code",
   "execution_count": 13,
   "id": "a6da7f6e",
   "metadata": {},
   "outputs": [
    {
     "data": {
      "text/plain": [
       "(1757, 1)"
      ]
     },
     "execution_count": 13,
     "metadata": {},
     "output_type": "execute_result"
    }
   ],
   "source": [
    "chem_sum[chem_sum['is_rising'] == 1].shape"
   ]
  },
  {
   "cell_type": "code",
   "execution_count": 14,
   "id": "8b787851",
   "metadata": {},
   "outputs": [],
   "source": [
    "rfdf['count'] = rfdf['County-State'].map(rfdf.value_counts('County-State'))"
   ]
  },
  {
   "cell_type": "code",
   "execution_count": 15,
   "id": "5d6baa55",
   "metadata": {},
   "outputs": [],
   "source": [
    "no_harris = rfdf[rfdf['County-State'] != 'harris-tx'].copy()"
   ]
  },
  {
   "cell_type": "code",
   "execution_count": 16,
   "id": "72fe116a",
   "metadata": {},
   "outputs": [],
   "source": [
    "no_harris.to_csv('data/cleaned/no_harris.csv', index=False)"
   ]
  },
  {
   "cell_type": "markdown",
   "id": "53d720be",
   "metadata": {},
   "source": [
    "## Model 3: Filter carcinogens"
   ]
  },
  {
   "cell_type": "code",
   "execution_count": 17,
   "id": "6ac740c9",
   "metadata": {},
   "outputs": [],
   "source": [
    "carcinogens = ['309-00-2','191-24-2','57-74-9','76-44-8','118-74-1','465-73-6','7439-92-1','7439-97-6','72-43-5',\n",
    "               '29082-74-4','40487-42-1','608-93-5','1336-36-3','79-94-7','8001-35-2','1582-09-8']"
   ]
  },
  {
   "cell_type": "code",
   "execution_count": 18,
   "id": "056c390d",
   "metadata": {},
   "outputs": [],
   "source": [
    "rfdf['CHEMICAL_ID_NUMBER'] = everything['CHEMICAL_ID_NUMBER']\n",
    "rfdf['pbt'] = [1 if x in carcinogens else 0 for x in rfdf['CHEMICAL_ID_NUMBER'].tolist()]"
   ]
  },
  {
   "cell_type": "code",
   "execution_count": 19,
   "id": "b78e74af",
   "metadata": {},
   "outputs": [
    {
     "data": {
      "text/plain": [
       "21"
      ]
     },
     "execution_count": 19,
     "metadata": {},
     "output_type": "execute_result"
    }
   ],
   "source": [
    "rfdf.loc[rfdf['pbt'] == 1, 'is_rising'].sum()"
   ]
  },
  {
   "cell_type": "code",
   "execution_count": 20,
   "id": "4f1bd6eb",
   "metadata": {},
   "outputs": [],
   "source": [
    "rising_view = rfdf.groupby('CHEMICAL_NAME')['is_rising'].count()"
   ]
  },
  {
   "cell_type": "code",
   "execution_count": null,
   "id": "88a8df0d",
   "metadata": {},
   "outputs": [],
   "source": []
  }
 ],
 "metadata": {
  "kernelspec": {
   "display_name": "Python 3 (ipykernel)",
   "language": "python",
   "name": "python3"
  },
  "language_info": {
   "codemirror_mode": {
    "name": "ipython",
    "version": 3
   },
   "file_extension": ".py",
   "mimetype": "text/x-python",
   "name": "python",
   "nbconvert_exporter": "python",
   "pygments_lexer": "ipython3",
   "version": "3.9.12"
  }
 },
 "nbformat": 4,
 "nbformat_minor": 5
}
