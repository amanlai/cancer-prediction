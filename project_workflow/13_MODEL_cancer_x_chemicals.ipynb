{
 "cells": [
  {
   "cell_type": "code",
   "execution_count": 1,
   "id": "3e59dc3d",
   "metadata": {},
   "outputs": [],
   "source": [
    "import pandas as pd\n",
    "\n",
    "from sklearn.linear_model import LogisticRegression\n",
    "from sklearn.ensemble import RandomForestClassifier\n",
    "from sklearn.model_selection import train_test_split\n",
    "from sklearn.preprocessing import StandardScaler\n",
    "\n",
    "import matplotlib.pyplot as plt\n",
    "from sklearn.metrics import ConfusionMatrixDisplay"
   ]
  },
  {
   "cell_type": "code",
   "execution_count": 2,
   "id": "fdf256ac",
   "metadata": {},
   "outputs": [],
   "source": [
    "data = pd.read_csv(\"data/processed/full_county_dataset.csv\")"
   ]
  },
  {
   "cell_type": "code",
   "execution_count": 3,
   "id": "5ece49c9",
   "metadata": {},
   "outputs": [],
   "source": [
    "chem_cancer = data.filter(regex='^chem|recent_trend').drop(columns='chem_companies').dropna()"
   ]
  },
  {
   "cell_type": "markdown",
   "id": "568eee31",
   "metadata": {},
   "source": [
    "Since this is a dummified dataset, let's try a few models first."
   ]
  },
  {
   "cell_type": "markdown",
   "id": "b1bfe862",
   "metadata": {},
   "source": [
    "# Model: Preprocessing"
   ]
  },
  {
   "cell_type": "code",
   "execution_count": 4,
   "id": "ac0025a4",
   "metadata": {},
   "outputs": [],
   "source": [
    "X = chem_cancer.copy()\n",
    "y = X.pop('recent_trend_cat')\n",
    "\n",
    "X_train, X_test, y_train, y_test = train_test_split(X, y, random_state=2022, stratify=y)\n",
    "\n",
    "sc = StandardScaler()\n",
    "Z_train = sc.fit_transform(X_train)\n",
    "Z_test = sc.transform(X_test)"
   ]
  },
  {
   "cell_type": "markdown",
   "id": "a7e471f7",
   "metadata": {},
   "source": [
    "# Baseline"
   ]
  },
  {
   "cell_type": "code",
   "execution_count": 5,
   "id": "c78b1c61",
   "metadata": {},
   "outputs": [
    {
     "data": {
      "text/plain": [
       "0.7966573816155988"
      ]
     },
     "execution_count": 5,
     "metadata": {},
     "output_type": "execute_result"
    }
   ],
   "source": [
    "y_test.eq(y_train.mode()[0]).mean()"
   ]
  },
  {
   "cell_type": "markdown",
   "id": "1057c6ae",
   "metadata": {},
   "source": [
    "# Model 1: Logistic Regression"
   ]
  },
  {
   "cell_type": "code",
   "execution_count": 6,
   "id": "af42db6e",
   "metadata": {},
   "outputs": [],
   "source": [
    "log = LogisticRegression(solver='liblinear', penalty='l1', C=0.01, max_iter=100)\n",
    "log.fit(Z_train, y_train);"
   ]
  },
  {
   "cell_type": "code",
   "execution_count": 7,
   "id": "04e8d594",
   "metadata": {},
   "outputs": [
    {
     "name": "stdout",
     "output_type": "stream",
     "text": [
      "Train accuracy = 0.797585886722377\n",
      "Test accuracy  = 0.7966573816155988\n"
     ]
    }
   ],
   "source": [
    "print(\"Train accuracy =\", log.score(Z_train, y_train))\n",
    "print(\"Test accuracy  =\", log.score(Z_test, y_test))"
   ]
  },
  {
   "cell_type": "markdown",
   "id": "74faeff1",
   "metadata": {},
   "source": [
    "# Model 2: Random Forest"
   ]
  },
  {
   "cell_type": "code",
   "execution_count": 8,
   "id": "8e199622",
   "metadata": {},
   "outputs": [],
   "source": [
    "rf = RandomForestClassifier(max_depth=1, n_estimators=300, n_jobs=-1)\n",
    "rf.fit(X_train, y_train);"
   ]
  },
  {
   "cell_type": "code",
   "execution_count": 9,
   "id": "56d6c79e",
   "metadata": {},
   "outputs": [
    {
     "name": "stdout",
     "output_type": "stream",
     "text": [
      "Train accuracy = 0.797585886722377\n",
      "Test accuracy  = 0.7966573816155988\n"
     ]
    }
   ],
   "source": [
    "print(\"Train accuracy =\", rf.score(X_train, y_train))\n",
    "print(\"Test accuracy  =\", rf.score(X_test, y_test))"
   ]
  },
  {
   "cell_type": "code",
   "execution_count": 10,
   "id": "aa559ee5",
   "metadata": {},
   "outputs": [
    {
     "data": {
      "image/png": "[encoded data removed]",
      "text/plain": [
       "<Figure size 1440x360 with 4 Axes>"
      ]
     },
     "metadata": {
      "needs_background": "light"
     },
     "output_type": "display_data"
    }
   ],
   "source": [
    "fig, axs = plt.subplots(1, 3, figsize=(20,5))\n",
    "\n",
    "ConfusionMatrixDisplay.from_predictions(y_test, pd.Series(y_train.mode()[0], index=y_test.index), ax=axs[0], colorbar=False)\n",
    "axs[0].set_title(\"The Baseline\", fontsize=15, pad=20, loc='left')\n",
    "\n",
    "ConfusionMatrixDisplay.from_estimator(log, Z_test, y_test, ax=axs[1], colorbar=False)\n",
    "axs[1].set_title(\"Logistic Regression\", fontsize=15, pad=20, loc='left')\n",
    "\n",
    "ConfusionMatrixDisplay.from_estimator(rf, X_test, y_test, ax=axs[2])\n",
    "axs[2].set_title(\"Random Forest\", fontsize=15, pad=20, loc='left')\n",
    "\n",
    "fig.savefig('images/chem_cm.png', transparent=True, bbox_inches=\"tight\");"
   ]
  },
  {
   "cell_type": "code",
   "execution_count": 11,
   "id": "2fa75af9",
   "metadata": {},
   "outputs": [
    {
     "data": {
      "text/plain": [
       "chem_Tungsten oxide (WO3)                                                                   0.013333\n",
       "chem_Distillates (petroleum), hydrotreated light                                            0.013333\n",
       "chem_Corn, steep liquor                                                                     0.013333\n",
       "chem_Soybean oil, Me ester                                                                  0.010000\n",
       "chem_Diphosphonic acid, P,P'-bis(1-methylethenyl)-, homopolymer, hydrolyzed, sodium salt    0.010000\n",
       "                                                                                              ...   \n",
       "chem_Starch, phosphate                                                                      0.003333\n",
       "chem_Cyclotrisiloxane, 2,4,6-triethenyl-2,4,6-trimethyl-                                    0.003333\n",
       "chem_Benzene, 1-isocyanato-4-(trifluoromethoxy)-                                            0.003333\n",
       "chem_Benzenesulfonic acid, 2-methyl-5-nitro-                                                0.003333\n",
       "chem_Phosphoric acid, zinc salt (2:1)                                                       0.003333\n",
       "Length: 247, dtype: float64"
      ]
     },
     "execution_count": 11,
     "metadata": {},
     "output_type": "execute_result"
    }
   ],
   "source": [
    "pd.Series(rf.feature_importances_, index=rf.feature_names_in_).sort_values(ascending=False).pipe(lambda x: x[x>0.001])"
   ]
  },
  {
   "cell_type": "code",
   "execution_count": null,
   "id": "4f3bebe1",
   "metadata": {},
   "outputs": [],
   "source": []
  }
 ],
 "metadata": {
  "kernelspec": {
   "display_name": "Python 3.9.12",
   "language": "python",
   "name": "python3"
  },
  "language_info": {
   "codemirror_mode": {
    "name": "ipython",
    "version": 3
   },
   "file_extension": ".py",
   "mimetype": "text/x-python",
   "name": "python",
   "nbconvert_exporter": "python",
   "pygments_lexer": "ipython3",
   "version": "3.9.12"
  }
 },
 "nbformat": 4,
 "nbformat_minor": 5
}
