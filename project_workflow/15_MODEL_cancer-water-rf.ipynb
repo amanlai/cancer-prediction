{
 "cells": [
  {
   "cell_type": "markdown",
   "id": "9ca22bf1",
   "metadata": {},
   "source": [
    "## Imports"
   ]
  },
  {
   "cell_type": "code",
   "execution_count": 10,
   "id": "3143a98c",
   "metadata": {},
   "outputs": [],
   "source": [
    "import pandas as pd\n",
    "import matplotlib.pyplot as plt\n",
    "\n",
    "from sklearn.model_selection import train_test_split\n",
    "from sklearn.ensemble import RandomForestClassifier"
   ]
  },
  {
   "cell_type": "markdown",
   "id": "855418fe",
   "metadata": {},
   "source": [
    "## Read dataset"
   ]
  },
  {
   "cell_type": "code",
   "execution_count": 11,
   "id": "2aedc937",
   "metadata": {},
   "outputs": [],
   "source": [
    "cancer_water = pd.read_csv('data/cleaned/rivers-cancer-rates.csv')"
   ]
  },
  {
   "cell_type": "code",
   "execution_count": 12,
   "id": "568a515b",
   "metadata": {},
   "outputs": [],
   "source": [
    "cancer_water = cancer_water.filter(regex='^(?!Unnamed).*')"
   ]
  },
  {
   "cell_type": "markdown",
   "id": "b8b367a0",
   "metadata": {},
   "source": [
    "## Model 1: Preprocessing"
   ]
  },
  {
   "cell_type": "code",
   "execution_count": 13,
   "id": "8c579a11",
   "metadata": {},
   "outputs": [],
   "source": [
    "X = cancer_water.drop(columns=['is_rising', 'Age-Adjusted Incidence Rate([rate note]) - cases per 100,000',\n",
    "       'Lower 95% Confidence Interval', 'Upper 95% Confidence Interval',\n",
    "       'CI*Rank([rank note])', 'Lower CI (CI*Rank)', 'Upper CI (CI*Rank)',\n",
    "       'Average Annual Count', 'Recent Trend',\n",
    "       'Recent 5-Year Trend ([trend note]) in Incidence Rates',\n",
    "       'Lower 95% Confidence Interval.1', 'Upper 95% Confidence Interval.1'])\n",
    "y = cancer_water['is_rising']\n",
    "\n",
    "cancer_water_dummies = pd.get_dummies(X, drop_first=True)\n",
    "\n",
    "X_train, X_test, y_train, y_test = train_test_split(cancer_water_dummies, y, stratify=y, random_state=2022)"
   ]
  },
  {
   "cell_type": "markdown",
   "id": "85de9750",
   "metadata": {},
   "source": [
    "## Baseline"
   ]
  },
  {
   "cell_type": "code",
   "execution_count": 17,
   "id": "77319354",
   "metadata": {},
   "outputs": [
    {
     "data": {
      "text/plain": [
       "0.8784425451092118"
      ]
     },
     "execution_count": 17,
     "metadata": {},
     "output_type": "execute_result"
    }
   ],
   "source": [
    "y.value_counts(normalize=True).max()"
   ]
  },
  {
   "cell_type": "markdown",
   "id": "5d82c932",
   "metadata": {},
   "source": [
    "## Model 1: Random Forest"
   ]
  },
  {
   "cell_type": "code",
   "execution_count": 14,
   "id": "b0e5ac47",
   "metadata": {},
   "outputs": [],
   "source": [
    "#X_dummies = pd.get_dummies(X_train, drop_first=True)\n",
    "\n",
    "rf = RandomForestClassifier(n_estimators=200, n_jobs=-1)\n",
    "rf.fit(X_train, y_train);"
   ]
  },
  {
   "cell_type": "markdown",
   "id": "d8016d27",
   "metadata": {},
   "source": [
    "## Model 1: Evaluation"
   ]
  },
  {
   "cell_type": "code",
   "execution_count": 15,
   "id": "8a61f75d",
   "metadata": {},
   "outputs": [
    {
     "data": {
      "text/plain": [
       "1.0"
      ]
     },
     "execution_count": 15,
     "metadata": {},
     "output_type": "execute_result"
    }
   ],
   "source": [
    "rf.score(X_train, y_train)"
   ]
  },
  {
   "cell_type": "code",
   "execution_count": 16,
   "id": "5c41108a",
   "metadata": {},
   "outputs": [
    {
     "data": {
      "text/plain": [
       "0.9278937381404174"
      ]
     },
     "execution_count": 16,
     "metadata": {},
     "output_type": "execute_result"
    }
   ],
   "source": [
    "rf.score(X_test, y_test)"
   ]
  },
  {
   "cell_type": "code",
   "execution_count": 18,
   "id": "b6595fd7",
   "metadata": {},
   "outputs": [],
   "source": [
    "preds = rf.predict(X_train)"
   ]
  },
  {
   "cell_type": "code",
   "execution_count": 19,
   "id": "0a227979",
   "metadata": {},
   "outputs": [
    {
     "data": {
      "text/plain": [
       "192"
      ]
     },
     "execution_count": 19,
     "metadata": {},
     "output_type": "execute_result"
    }
   ],
   "source": [
    "preds.sum()"
   ]
  },
  {
   "cell_type": "code",
   "execution_count": 20,
   "id": "245fcf06",
   "metadata": {},
   "outputs": [
    {
     "data": {
      "text/plain": [
       "26"
      ]
     },
     "execution_count": 20,
     "metadata": {},
     "output_type": "execute_result"
    }
   ],
   "source": [
    "preds = rf.predict(X_test)\n",
    "preds.sum()"
   ]
  },
  {
   "cell_type": "code",
   "execution_count": 21,
   "id": "ca71d45c",
   "metadata": {},
   "outputs": [
    {
     "data": {
      "text/plain": [
       "array([2.93133843e-03, 1.66315868e-02, 1.38591996e-02, ...,\n",
       "       8.05758442e-04, 9.48329074e-09, 8.47384643e-08])"
      ]
     },
     "execution_count": 21,
     "metadata": {},
     "output_type": "execute_result"
    }
   ],
   "source": [
    "rf.feature_importances_"
   ]
  },
  {
   "cell_type": "code",
   "execution_count": null,
   "id": "40a3d518",
   "metadata": {},
   "outputs": [],
   "source": []
  }
 ],
 "metadata": {
  "kernelspec": {
   "display_name": "Python 3 (ipykernel)",
   "language": "python",
   "name": "python3"
  },
  "language_info": {
   "codemirror_mode": {
    "name": "ipython",
    "version": 3
   },
   "file_extension": ".py",
   "mimetype": "text/x-python",
   "name": "python",
   "nbconvert_exporter": "python",
   "pygments_lexer": "ipython3",
   "version": "3.9.12"
  }
 },
 "nbformat": 4,
 "nbformat_minor": 5
}
