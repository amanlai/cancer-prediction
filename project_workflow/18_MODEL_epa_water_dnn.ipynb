{
  "nbformat": 4,
  "nbformat_minor": 0,
  "metadata": {
    "colab": {
      "provenance": [],
      "machine_shape": "hm"
    },
    "kernelspec": {
      "name": "python3",
      "display_name": "Python 3"
    },
    "language_info": {
      "name": "python"
    },
    "accelerator": "GPU",
    "gpuClass": "standard"
  },
  "cells": [
    {
      "cell_type": "code",
      "source": [
        "import numpy as np\n",
        "import pandas as pd\n",
        "import matplotlib.pyplot as plt\n",
        "import pickle\n",
        "\n",
        "from sklearn.preprocessing import StandardScaler, OneHotEncoder\n",
        "from sklearn.model_selection import train_test_split\n",
        "\n",
        "# Tensorflow imports below...\n",
        "from tensorflow.keras.models import Sequential\n",
        "from tensorflow.keras.layers import Dense, Dropout, GRU\n",
        "from tensorflow.keras.regularizers import l2\n",
        "from tensorflow.keras.callbacks import EarlyStopping\n"
      ],
      "metadata": {
        "id": "bWrGYoNIaPkq"
      },
      "execution_count": 21,
      "outputs": []
    },
    {
      "cell_type": "code",
      "source": [],
      "metadata": {
        "id": "9o84MdWDaPei"
      },
      "execution_count": 9,
      "outputs": []
    },
    {
      "cell_type": "markdown",
      "source": [
        "## Import Data and filter to just the Water data (not CDR)\n",
        "Given the number of columns in this set, we'll focus on the numeric ones that are actually present. "
      ],
      "metadata": {
        "id": "DBSYhobaw0m7"
      }
    },
    {
      "cell_type": "code",
      "execution_count": 3,
      "metadata": {
        "id": "1hbf2QMvaFeo"
      },
      "outputs": [],
      "source": [
        "df = pd.read_csv('/content/drive/MyDrive/ga_data/full_county_dataset.csv')"
      ]
    },
    {
      "cell_type": "code",
      "source": [
        "water_string = \" hab_XBKA\thab_MEDBK_A\thab_XUN\thab_MEDBKUN\thab_XCDENMID\thab_XCDENBK\thab_CONPERCENT\thab_PCT_FA\thab_PCT_DR\thab_PCT_FAST\thab_PCT_SLOW\thab_PCT_POOL\thab_XWIDTH\thab_SDWIDTH\thab_XBKF_W\thab_XBKF_H\thab_XINC_H\thab_SDINC_H\thab_BFWD_RAT\thab_XWXD\thab_XWD_RAT\thab_SDWXD\thab_SDWD_RAT\thab_XDEPTH_CM\thab_SDDEPTH_CM\thab_XFC_ALG\thab_XFC_RCK\thab_XFC_BRS\thab_XFC_LVT\thab_XFC_AQM\thab_XFC_OHV\thab_XFC_HUM\thab_XFC_UCB\thab_XFC_LWD\thab_XFC_NAT\thab_XFC_BIG\thab_XFC_ALL\thab_PCT_SIDE\thab_REACHLEN\thab_W1_HAG\thab_W1_HNOAG\thab_W1_HALL\thab_W1H_BLDG\thab_W1H_LDFL\thab_W1H_LOG\thab_W1H_MINE\thab_W1H_PARK\thab_W1H_PSTR\thab_W1H_PVMT\thab_W1H_PIPE\thab_W1H_ROAD\thab_W1H_CROP\thab_W1H_WALL\thab_C1WM100\thab_C2WM100\thab_C4WM100\thab_V1WM100\thab_V1W_MSQ\thab_V2WM100\thab_V2W_MSQ\thab_V4WM100\thab_V4W_MSQ\thab_PCAN_C\thab_PCAN_D\thab_PCAN_E\thab_PCAN_M\thab_PCAN_N\thab_XCL\thab_XCS\thab_XMW\thab_XMH\thab_XGW\thab_XGH\thab_XGB\thab_XC\thab_XM\thab_XCMW\thab_XCM\thab_XG\thab_XCMGW\thab_XCMG\thab_XPCAN\thab_XPMID\thab_XPMGW\thab_XPCM\thab_XPCMG\thab_XSLOPE\thab_XSLOPE_MAP\thab_XSLOPE_FIELD\thab_PCTCLINOMETER\thab_XBEARING\thab_SINU\thab_LSUB_DMM\thab_LSUBD_SD\thab_LSUB_DMM_NOR\thab_PCT_FN\thab_PCT_GC\thab_PCT_GF\thab_PCT_HP\thab_PCT_OM\thab_PCT_OT\thab_PCT_RC\thab_PCT_SA\thab_PCT_WD\thab_PCT_BIGR\thab_PCT_BDRK\thab_PCT_SAFN\thab_PCT_SFGF\thab_PCT_ORG\thab_XEMBED\thab_XCEMBED\thab_RPXDEP_CM\thab_RPMXDEP_CM\thab_RPGT50\thab_RPGT75\thab_RP100\thab_LTEST\thab_LRBS_TST\thab_LDMB_BW5\thab_LRBS_BW5\thab_LDCBF_G08\thab_LRBS_G08\thab_PCT_SFG\thab_PCT_BH\thab_XSHOR2VG\thab_PCT_OVRB\thab_PCT_GL\thab_C1TM100\thab_C2TM100\thab_C4TM100\thab_PCT_GR\thab_RDIST1\thab_QR1\thab_CVWIDTH\thab_CVWXD\tbminv_AMPHNTAX\tbminv_AMPHPIND\tbminv_AMPHPTAX\tbminv_BURRNTAX\tbminv_BURRPIND\tbminv_BURRPTAX\tbminv_CHIRDOM1PIND\tbminv_CHIRDOM3PIND\tbminv_CHIRDOM5PIND\tbminv_CHIRNTAX\tbminv_CHIRPIND\tbminv_CHIRPTAX\tbminv_CLMBNTAX\tbminv_CLMBPIND\tbminv_CLMBPTAX\tbminv_CLNGNTAX\tbminv_CLNGPIND\tbminv_CLNGPTAX\tbminv_COFINTAX\tbminv_COFIPIND\tbminv_COFIPTAX\tbminv_COFITRICNTAX\tbminv_COFITRICPIND\tbminv_COFITRICPTAX\tbminv_COGANTAX\tbminv_COGAPIND\tbminv_COGAPTAX\tbminv_CRUSNTAX\tbminv_CRUSPIND\tbminv_CRUSPTAX\tbminv_DIPTNTAX\tbminv_DIPTPIND\tbminv_DIPTPTAX\tbminv_DOM1PIND\tbminv_DOM3PIND\tbminv_DOM5PIND\tbminv_EPHENTAX\tbminv_EPHEPIND\tbminv_EPHEPTAX\tbminv_EPOTNTAX\tbminv_EPOTPIND\tbminv_EPOTPTAX\tbminv_EPT_NTAX\tbminv_EPT_PIND\tbminv_EPT_PTAX\tbminv_FACLNTAX\tbminv_FACLPIND\tbminv_FACLPTAX\tbminv_HEMINTAX\tbminv_HEMIPIND\tbminv_HEMIPTAX\tbminv_HPRIME\tbminv_INTLNTAX\tbminv_INTLPIND\tbminv_INTLPTAX\tbminv_MITENTAX\tbminv_MITEPIND\tbminv_MITEPTAX\tbminv_MOLLNTAX\tbminv_MOLLPIND\tbminv_MOLLPTAX\tbminv_NOINNTAX\tbminv_NOINPIND\tbminv_NOINPTAX\tbminv_NTOLNTAX\tbminv_NTOLPIND\tbminv_NTOLPTAX\tbminv_ODONNTAX\tbminv_ODONPIND\tbminv_ODONPTAX\tbminv_OLLENTAX\tbminv_OLLEPIND\tbminv_OLLEPTAX\tbminv_ORTHCHIRPIND\tbminv_ORTHNTAX\tbminv_ORTHPIND\tbminv_ORTHPTAX\tbminv_PLECNTAX\tbminv_PLECPIND\tbminv_PLECPTAX\tbminv_PREDNTAX\tbminv_PREDPIND\tbminv_PREDPTAX\tbminv_SCRPNTAX\tbminv_SCRPPIND\tbminv_SCRPPTAX\tbminv_SHRDNTAX\tbminv_SHRDPIND\tbminv_SHRDPTAX\tbminv_SPWLNTAX\tbminv_SPWLPIND\tbminv_SPWLPTAX\tbminv_STOLNTAX\tbminv_STOLPIND\tbminv_STOLPTAX\tbminv_SWIMNTAX\tbminv_SWIMPIND\tbminv_SWIMPTAX\tbminv_TANYNTAX\tbminv_TANYPIND\tbminv_TANYPTAX\tbminv_TL01NTAX\tbminv_TL01PIND\tbminv_TL01PTAX\tbminv_TL23NTAX\tbminv_TL23PIND\tbminv_TL23PTAX\tbminv_TL45NTAX\tbminv_TL45PIND\tbminv_TL45PTAX\tbminv_TL67NTAX\tbminv_TL67PIND\tbminv_TL67PTAX\tbminv_TOLRNTAX\tbminv_TOLRPIND\tbminv_TOLRPTAX\tbminv_TOTLNIND\tbminv_TOTLNTAX\tbminv_TRICNTAX\tbminv_TRICPIND\tbminv_TRICPTAX\tbminv_TUBINAIDNTAX\tbminv_TUBINAIDPIND\tbminv_TUBINAIDPTAX\tbminv_WTD_TV\"\n",
        "water_columns = water_string.split()\n",
        "demo_string = \"name\tfips\tage_over_65\tstate\tpop2017\tpoverty\thomeownership\tmulti_unit\tunemployment_rate\tmetro\tmedian_edu\tmedian_hh_income\tsmoking_ban\tincidence_rate_per_100k\trecent_trend_cat\t5yr_trend\"\n",
        "demo_columns = demo_string.split()"
      ],
      "metadata": {
        "id": "MUKWvkFRc2yN"
      },
      "execution_count": 5,
      "outputs": []
    },
    {
      "cell_type": "code",
      "source": [
        "features = water_columns + demo_columns\n",
        "df_water = df[features].copy()\n",
        "df_water.dropna(inplace=True)"
      ],
      "metadata": {
        "id": "_D4UiUsga_DX"
      },
      "execution_count": 6,
      "outputs": []
    },
    {
      "cell_type": "code",
      "source": [
        "y = df_water['recent_trend_cat'].copy()"
      ],
      "metadata": {
        "id": "4byHL9_l0_T5"
      },
      "execution_count": 26,
      "outputs": []
    },
    {
      "cell_type": "code",
      "source": [
        "y.value_counts(normalize=True).max()"
      ],
      "metadata": {
        "colab": {
          "base_uri": "https://localhost:8080/"
        },
        "id": "U-URA7Se3IgR",
        "outputId": "0a3b0104-89ca-43e5-8d58-7153799965f8"
      },
      "execution_count": 27,
      "outputs": [
        {
          "output_type": "execute_result",
          "data": {
            "text/plain": [
              "0.8159246575342466"
            ]
          },
          "metadata": {},
          "execution_count": 27
        }
      ]
    },
    {
      "cell_type": "code",
      "source": [
        "oh = OneHotEncoder(\n",
        "    sparse=False,\n",
        "    dtype=int,\n",
        "    categories=\"auto\"\n",
        ")\n",
        "y = oh.fit_transform(y.values.reshape(-1, 1))"
      ],
      "metadata": {
        "id": "tHHqKTZh2BgL"
      },
      "execution_count": 10,
      "outputs": []
    },
    {
      "cell_type": "code",
      "source": [
        "#identifying vexxing columns with unexplained infinite values\n",
        "df_water.describe().max().sort_values(ascending=False)"
      ],
      "metadata": {
        "colab": {
          "base_uri": "https://localhost:8080/"
        },
        "id": "M1DO9TGz5lRM",
        "outputId": "e30e9460-2db4-4fd2-c0bf-5a2c09475a9c"
      },
      "execution_count": 14,
      "outputs": [
        {
          "output_type": "execute_result",
          "data": {
            "text/plain": [
              "pop2017             4652980.00\n",
              "median_hh_income     129588.00\n",
              "fips                  56045.00\n",
              "hab_XWXD              38050.27\n",
              "hab_SDWXD             10672.34\n",
              "                       ...    \n",
              "hab_PCT_OT             1168.00\n",
              "hab_PCT_RC             1168.00\n",
              "hab_PCT_SA             1168.00\n",
              "hab_PCT_WD             1168.00\n",
              "5yr_trend              1168.00\n",
              "Length: 271, dtype: float64"
            ]
          },
          "metadata": {},
          "execution_count": 14
        }
      ]
    },
    {
      "cell_type": "code",
      "source": [
        "df_water.drop(columns=['hab_XWD_RAT', 'hab_BFWD_RAT'], inplace=True)"
      ],
      "metadata": {
        "id": "G9ivXXoq-gEa"
      },
      "execution_count": 12,
      "outputs": []
    },
    {
      "cell_type": "code",
      "source": [
        "X = df_water.select_dtypes(exclude=['object'])"
      ],
      "metadata": {
        "id": "uaD4HYtnjR5J"
      },
      "execution_count": 17,
      "outputs": []
    },
    {
      "cell_type": "code",
      "source": [],
      "metadata": {
        "colab": {
          "base_uri": "https://localhost:8080/",
          "height": 169
        },
        "id": "QE_u6kj93Cdx",
        "outputId": "9cf4aaf5-6e90-491e-d539-11c842e4eccb"
      },
      "execution_count": 25,
      "outputs": [
        {
          "output_type": "error",
          "ename": "AttributeError",
          "evalue": "ignored",
          "traceback": [
            "\u001b[0;31m---------------------------------------------------------------------------\u001b[0m",
            "\u001b[0;31mAttributeError\u001b[0m                            Traceback (most recent call last)",
            "\u001b[0;32m<ipython-input-25-7871eab38d75>\u001b[0m in \u001b[0;36m<module>\u001b[0;34m\u001b[0m\n\u001b[0;32m----> 1\u001b[0;31m \u001b[0my\u001b[0m\u001b[0;34m.\u001b[0m\u001b[0mvalue_counts\u001b[0m\u001b[0;34m(\u001b[0m\u001b[0mnormalize\u001b[0m\u001b[0;34m=\u001b[0m\u001b[0;32mTrue\u001b[0m\u001b[0;34m)\u001b[0m\u001b[0;34m.\u001b[0m\u001b[0mmax\u001b[0m\u001b[0;34m(\u001b[0m\u001b[0;34m)\u001b[0m\u001b[0;34m\u001b[0m\u001b[0;34m\u001b[0m\u001b[0m\n\u001b[0m",
            "\u001b[0;31mAttributeError\u001b[0m: 'numpy.ndarray' object has no attribute 'value_counts'"
          ]
        }
      ]
    },
    {
      "cell_type": "code",
      "source": [
        "#Dense Neural Network on Water Data\n",
        "\n",
        "sc = StandardScaler()\n",
        "X_sc = sc.fit_transform(X)\n",
        "X_train, X_test, y_train, y_test = train_test_split(X_sc, y, stratify= y, test_size=0.2, random_state=4)\n",
        "\n",
        "model = Sequential()\n",
        "\n",
        "model.add(Dense(1000, activation='relu', input_shape=(X_train.shape[1],)))\n",
        "model.add(Dense(500, activation='relu', kernel_regularizer=l2(0.002)))\n",
        "model.add(Dropout(.05))\n",
        "model.add(Dense(256, activation='relu', kernel_regularizer=l2(0.002)))\n",
        "model.add(Dropout(.1))\n",
        "model.add(Dense(128, activation='relu', kernel_regularizer=l2(0.002)))\n",
        "model.add(Dropout(.3))\n",
        "model.add(Dense(128, activation='relu', kernel_regularizer=l2(0.002)))\n",
        "model.add(Dropout(.5))\n",
        "model.add(Dense(128, activation='relu', kernel_regularizer=l2(0.002)))\n",
        "model.add(Dense(64, activation='relu', kernel_regularizer=l2(0.002)))\n",
        "model.add(Dense(3, activation='softmax'))\n",
        "\n",
        "model.compile(loss='categorical_crossentropy', optimizer='adam', metrics=['mae', 'acc'])\n",
        "early_stop = EarlyStopping(monitor='val_loss', min_delta=0.1, patience=5, verbose=1, mode='auto')\n",
        "\n",
        "history = model.fit(\n",
        "    X_train,\n",
        "    y_train,\n",
        "    validation_data=(X_test, y_test),\n",
        "    epochs=10,\n",
        "    batch_size=32,\n",
        "    callbacks=[early_stop]\n",
        ")"
      ],
      "metadata": {
        "colab": {
          "base_uri": "https://localhost:8080/"
        },
        "outputId": "258da902-2581-4981-b9b9-d8edb18707db",
        "id": "s8n4zjDEhqww"
      },
      "execution_count": 22,
      "outputs": [
        {
          "output_type": "stream",
          "name": "stdout",
          "text": [
            "Epoch 1/10\n",
            "30/30 [==============================] - 1s 12ms/step - loss: 3.3323 - mae: 0.2342 - acc: 0.8009 - val_loss: 2.8723 - val_mae: 0.2639 - val_acc: 0.8162\n",
            "Epoch 2/10\n",
            "30/30 [==============================] - 0s 5ms/step - loss: 2.5266 - mae: 0.2112 - acc: 0.8158 - val_loss: 2.2257 - val_mae: 0.2018 - val_acc: 0.8162\n",
            "Epoch 3/10\n",
            "30/30 [==============================] - 0s 5ms/step - loss: 1.9686 - mae: 0.1909 - acc: 0.8158 - val_loss: 1.8073 - val_mae: 0.2164 - val_acc: 0.8162\n",
            "Epoch 4/10\n",
            "30/30 [==============================] - 0s 5ms/step - loss: 1.5831 - mae: 0.1724 - acc: 0.8158 - val_loss: 1.5402 - val_mae: 0.2292 - val_acc: 0.8162\n",
            "Epoch 5/10\n",
            "30/30 [==============================] - 0s 5ms/step - loss: 1.3019 - mae: 0.1603 - acc: 0.8158 - val_loss: 1.3424 - val_mae: 0.2150 - val_acc: 0.8162\n",
            "Epoch 6/10\n",
            "30/30 [==============================] - 0s 5ms/step - loss: 1.0909 - mae: 0.1436 - acc: 0.8158 - val_loss: 1.3647 - val_mae: 0.2140 - val_acc: 0.8162\n",
            "Epoch 7/10\n",
            "30/30 [==============================] - 0s 5ms/step - loss: 0.9377 - mae: 0.1314 - acc: 0.8169 - val_loss: 1.2745 - val_mae: 0.1878 - val_acc: 0.7991\n",
            "Epoch 8/10\n",
            "30/30 [==============================] - 0s 5ms/step - loss: 0.8291 - mae: 0.1237 - acc: 0.8715 - val_loss: 1.2266 - val_mae: 0.1993 - val_acc: 0.7564\n",
            "Epoch 9/10\n",
            "30/30 [==============================] - 0s 5ms/step - loss: 0.7849 - mae: 0.1342 - acc: 0.8587 - val_loss: 1.1879 - val_mae: 0.1723 - val_acc: 0.7906\n",
            "Epoch 10/10\n",
            "30/30 [==============================] - 0s 5ms/step - loss: 0.6598 - mae: 0.1062 - acc: 0.9133 - val_loss: 1.3097 - val_mae: 0.1538 - val_acc: 0.8077\n"
          ]
        }
      ]
    },
    {
      "cell_type": "code",
      "source": [
        "preds = model.predict(X_sc)"
      ],
      "metadata": {
        "colab": {
          "base_uri": "https://localhost:8080/"
        },
        "id": "fPE42SUyGsPl",
        "outputId": "1abcbe5d-b73d-4bc9-d526-07e6b99ac20b"
      },
      "execution_count": 155,
      "outputs": [
        {
          "output_type": "stream",
          "name": "stdout",
          "text": [
            "37/37 [==============================] - 0s 2ms/step\n"
          ]
        }
      ]
    },
    {
      "cell_type": "code",
      "source": [
        "preds_classes =np.argmax(preds,axis=1)"
      ],
      "metadata": {
        "id": "ibDS7rgHGPG1"
      },
      "execution_count": 157,
      "outputs": []
    },
    {
      "cell_type": "code",
      "source": [
        "with open('/content/drive/MyDrive/ga_data/cdr_nih_20221121.pkl', 'wb') as pickle_out:\n",
        "    pickle_out = pickle.dump(model, pickle_out)"
      ],
      "metadata": {
        "id": "-kBnzxgSWjOV"
      },
      "execution_count": 28,
      "outputs": []
    }
  ]
}